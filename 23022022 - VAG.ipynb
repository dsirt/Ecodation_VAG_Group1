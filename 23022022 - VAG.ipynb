{
 "cells": [
  {
   "cell_type": "code",
   "execution_count": 1,
   "id": "122f96d2",
   "metadata": {},
   "outputs": [
    {
     "name": "stdout",
     "output_type": "stream",
     "text": [
      "100 1000.0 Python\n"
     ]
    }
   ],
   "source": [
    "#Python data types (veri türleri)\n",
    "counter = 100 #integer\n",
    "distance = 1000.0 #float\n",
    "name = \"Python\" #string\n",
    "\n",
    "print(counter, distance, name)"
   ]
  },
  {
   "cell_type": "code",
   "execution_count": 4,
   "id": "fd146af4",
   "metadata": {},
   "outputs": [
    {
     "name": "stdout",
     "output_type": "stream",
     "text": [
      "Hello Python!\n",
      "H\n",
      "llo\n",
      "llo Python!\n",
      "Hello Python!Hello Python!\n",
      "Hello Python!TEST\n",
      "l o t\n"
     ]
    }
   ],
   "source": [
    "str1 = 'Hello Python!'\n",
    "\n",
    "print(str1)\n",
    "print(str1[0]) #zero-based indexing\n",
    "print(str1[2:5])\n",
    "print(str1[2:])\n",
    "print(str1 * 2)\n",
    "print(str1 + \"TEST\")\n",
    "print(str1[2], str1[4], str1[8])"
   ]
  },
  {
   "cell_type": "code",
   "execution_count": 5,
   "id": "ab85bd2c",
   "metadata": {},
   "outputs": [
    {
     "name": "stdout",
     "output_type": "stream",
     "text": [
      "['abcd', 786, 2.23, 'Bil', 70.2]\n",
      "abcd\n",
      "d\n",
      "[786, 2.23]\n",
      "[2.23, 'Bil', 70.2]\n",
      "['Bil', 70.2]\n",
      "[123, 'Bil', 123, 'Bil']\n",
      "['abcd', 786, 2.23, 'Bil', 70.2, 123, 'Bil']\n"
     ]
    }
   ],
   "source": [
    "lst1 = ['abcd', 786, 2.23, 'Bil', 70.2]\n",
    "minilist = [123, 'Bil']\n",
    "\n",
    "print(lst1)\n",
    "print(lst1[0])\n",
    "print(lst1[0][3])\n",
    "print(lst1[1:3])\n",
    "print(lst1[2:])\n",
    "print(lst1[3:5])\n",
    "print(minilist * 2)\n",
    "print(lst1 + minilist)"
   ]
  },
  {
   "cell_type": "code",
   "execution_count": 6,
   "id": "58c55911",
   "metadata": {},
   "outputs": [
    {
     "data": {
      "text/plain": [
       "'\\nAND Gate (Kapısı), lojik çarpım işlemine denk düşer\\nx y | Z\\n0 0   0      \\n0 1   0\\n1 0   0\\n1 1   1\\n\\n\\nOR Gate, lojik toplama işlemine denk düşer\\nx y | Z\\n0 0   0      \\n0 1   1\\n1 0   1\\n1 1   1\\n\\nNOT Gate, lojikte tersi işlemine denk düşer\\nx | Z\\n0   1      \\n1   0\\n'"
      ]
     },
     "execution_count": 6,
     "metadata": {},
     "output_type": "execute_result"
    }
   ],
   "source": [
    "\"\"\"\n",
    "AND Gate (Kapısı), lojik çarpım işlemine denk düşer\n",
    "x y | Z\n",
    "0 0   0      \n",
    "0 1   0\n",
    "1 0   0\n",
    "1 1   1\n",
    "\n",
    "\n",
    "OR Gate, lojik toplama işlemine denk düşer\n",
    "x y | Z\n",
    "0 0   0      \n",
    "0 1   1\n",
    "1 0   1\n",
    "1 1   1\n",
    "\n",
    "NOT Gate, lojikte tersi işlemine denk düşer\n",
    "x | Z\n",
    "0   1      \n",
    "1   0\n",
    "\"\"\""
   ]
  },
  {
   "cell_type": "code",
   "execution_count": 7,
   "id": "368b4c67",
   "metadata": {},
   "outputs": [
    {
     "name": "stdout",
     "output_type": "stream",
     "text": [
      "True\n",
      "True\n",
      "False\n",
      "True\n",
      "False\n"
     ]
    }
   ],
   "source": [
    "a = 6\n",
    "b = 7\n",
    "\n",
    "print(not a == 7 and b == 7) # True\n",
    "print(a == 7 or b == 7) # True\n",
    "print(a == 7 or b == 6) # False\n",
    "print(not(a == 7 and b == 6)) # True\n",
    "print(not a == 7 and b == 6) # False"
   ]
  },
  {
   "cell_type": "code",
   "execution_count": 8,
   "id": "fa4f3d23",
   "metadata": {},
   "outputs": [
    {
     "name": "stdout",
     "output_type": "stream",
     "text": [
      "a > b : False\n",
      "a < b : True\n",
      "a == b : False\n",
      "a != b : True\n",
      "a >= b : False\n",
      "a <= b : True\n"
     ]
    }
   ],
   "source": [
    "print('a > b :', a > b)\n",
    "print('a < b :', a < b)\n",
    "print('a == b :', a == b)\n",
    "print('a != b :', a != b)\n",
    "print('a >= b :', a >= b)\n",
    "print('a <= b :', a <= b)"
   ]
  },
  {
   "cell_type": "code",
   "execution_count": 3,
   "id": "4831255b",
   "metadata": {},
   "outputs": [
    {
     "name": "stdout",
     "output_type": "stream",
     "text": [
      "What is your username? Python\n",
      "What is the password? Visualisation\n",
      "Maske sen kimsin, tanımıyorum\n"
     ]
    }
   ],
   "source": [
    "# if elif else \n",
    "username = input(\"What is your username? \")\n",
    "password = input(\"What is the password? \")\n",
    "\n",
    "if username == \"Data\" and password == \"Analysis\":\n",
    "    print(\"Welcome our new DAV course!\")\n",
    "    \n",
    "elif username == \"Programming\" and password == \"Languages\":\n",
    "    print(\"Welcome, Programming Languages!\")\n",
    "    \n",
    "else:\n",
    "    print(\"Maske sen kimsin, tanımıyorum\")"
   ]
  },
  {
   "cell_type": "code",
   "execution_count": null,
   "id": "067c2459",
   "metadata": {},
   "outputs": [],
   "source": []
  }
 ],
 "metadata": {
  "kernelspec": {
   "display_name": "Python 3",
   "language": "python",
   "name": "python3"
  },
  "language_info": {
   "codemirror_mode": {
    "name": "ipython",
    "version": 3
   },
   "file_extension": ".py",
   "mimetype": "text/x-python",
   "name": "python",
   "nbconvert_exporter": "python",
   "pygments_lexer": "ipython3",
   "version": "3.8.8"
  }
 },
 "nbformat": 4,
 "nbformat_minor": 5
}
