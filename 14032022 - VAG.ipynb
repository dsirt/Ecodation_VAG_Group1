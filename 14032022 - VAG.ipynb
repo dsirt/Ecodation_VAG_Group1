{
 "cells": [
  {
   "cell_type": "code",
   "execution_count": 6,
   "id": "312ccbc6",
   "metadata": {},
   "outputs": [
    {
     "data": {
      "text/plain": [
       "array([[1, 2],\n",
       "       [4, 5]])"
      ]
     },
     "execution_count": 6,
     "metadata": {},
     "output_type": "execute_result"
    }
   ],
   "source": [
    "#Matrisin üssünü alma\n",
    "import numpy as np\n",
    "M1 = np.array([[1,2], [4,5]])\n",
    "M1"
   ]
  },
  {
   "cell_type": "code",
   "execution_count": 3,
   "id": "6a7e3d79",
   "metadata": {},
   "outputs": [
    {
     "data": {
      "text/plain": [
       "array([[ 57,  78],\n",
       "       [156, 213]])"
      ]
     },
     "execution_count": 3,
     "metadata": {},
     "output_type": "execute_result"
    }
   ],
   "source": [
    "M1@M1@M1"
   ]
  },
  {
   "cell_type": "code",
   "execution_count": 4,
   "id": "e7a1894b",
   "metadata": {},
   "outputs": [
    {
     "data": {
      "text/plain": [
       "array([[ 57,  78],\n",
       "       [156, 213]])"
      ]
     },
     "execution_count": 4,
     "metadata": {},
     "output_type": "execute_result"
    }
   ],
   "source": [
    "np.linalg.matrix_power(M1, 3)"
   ]
  },
  {
   "cell_type": "code",
   "execution_count": 5,
   "id": "ca27e09b",
   "metadata": {},
   "outputs": [
    {
     "data": {
      "text/plain": [
       "array([[[  1,   2,   3],\n",
       "        [  4,   5,   6],\n",
       "        [  7,   8,   9]],\n",
       "\n",
       "       [[ 10,  20,  30],\n",
       "        [ 40,  50,  60],\n",
       "        [ 70,  80,  90]],\n",
       "\n",
       "       [[100, 200, 300],\n",
       "        [400, 500, 600],\n",
       "        [700, 800, 900]]])"
      ]
     },
     "execution_count": 5,
     "metadata": {},
     "output_type": "execute_result"
    }
   ],
   "source": [
    "#tensörler\n",
    "T1 = np.array([\n",
    "  [[1,2,3], [4,5,6], [7,8,9]],\n",
    "  [[10,20,30], [40,50,60], [70,80,90]],\n",
    "  [[100,200,300], [400,500,600], [700,800,900]],\n",
    "])\n",
    "\n",
    "T1"
   ]
  },
  {
   "cell_type": "code",
   "execution_count": 7,
   "id": "124fa8b5",
   "metadata": {},
   "outputs": [
    {
     "data": {
      "text/plain": [
       "array([[[0, 0, 0],\n",
       "        [0, 0, 0],\n",
       "        [0, 0, 0]],\n",
       "\n",
       "       [[1, 1, 1],\n",
       "        [1, 1, 1],\n",
       "        [1, 1, 1]],\n",
       "\n",
       "       [[2, 2, 2],\n",
       "        [2, 2, 2],\n",
       "        [2, 2, 2]]])"
      ]
     },
     "execution_count": 7,
     "metadata": {},
     "output_type": "execute_result"
    }
   ],
   "source": [
    "T2 = np.array([\n",
    "    [[0,0,0], [0,0,0], [0,0,0]],\n",
    "    [[1,1,1], [1,1,1], [1,1,1]],\n",
    "    [[2,2,2], [2,2,2], [2,2,2]]\n",
    "])\n",
    "\n",
    "T2"
   ]
  },
  {
   "cell_type": "code",
   "execution_count": 8,
   "id": "e7064ba7",
   "metadata": {},
   "outputs": [
    {
     "data": {
      "text/plain": [
       "array([[[  1,   2,   3],\n",
       "        [  4,   5,   6],\n",
       "        [  7,   8,   9]],\n",
       "\n",
       "       [[ 11,  21,  31],\n",
       "        [ 41,  51,  61],\n",
       "        [ 71,  81,  91]],\n",
       "\n",
       "       [[102, 202, 302],\n",
       "        [402, 502, 602],\n",
       "        [702, 802, 902]]])"
      ]
     },
     "execution_count": 8,
     "metadata": {},
     "output_type": "execute_result"
    }
   ],
   "source": [
    "A = T1 + T2\n",
    "A"
   ]
  },
  {
   "cell_type": "code",
   "execution_count": 9,
   "id": "89cd8fb1",
   "metadata": {},
   "outputs": [
    {
     "data": {
      "text/plain": [
       "array([[[  1,   2,   3],\n",
       "        [  4,   5,   6],\n",
       "        [  7,   8,   9]],\n",
       "\n",
       "       [[ 11,  21,  31],\n",
       "        [ 41,  51,  61],\n",
       "        [ 71,  81,  91]],\n",
       "\n",
       "       [[102, 202, 302],\n",
       "        [402, 502, 602],\n",
       "        [702, 802, 902]]])"
      ]
     },
     "execution_count": 9,
     "metadata": {},
     "output_type": "execute_result"
    }
   ],
   "source": [
    "np.add(T1, T2)"
   ]
  },
  {
   "cell_type": "code",
   "execution_count": 10,
   "id": "e9b5e97b",
   "metadata": {},
   "outputs": [
    {
     "data": {
      "text/plain": [
       "array([[[  1,   2,   3],\n",
       "        [  4,   5,   6],\n",
       "        [  7,   8,   9]],\n",
       "\n",
       "       [[  9,  19,  29],\n",
       "        [ 39,  49,  59],\n",
       "        [ 69,  79,  89]],\n",
       "\n",
       "       [[ 98, 198, 298],\n",
       "        [398, 498, 598],\n",
       "        [698, 798, 898]]])"
      ]
     },
     "execution_count": 10,
     "metadata": {},
     "output_type": "execute_result"
    }
   ],
   "source": [
    "S = T1 - T2\n",
    "S"
   ]
  },
  {
   "cell_type": "code",
   "execution_count": 11,
   "id": "22b0d99b",
   "metadata": {},
   "outputs": [
    {
     "data": {
      "text/plain": [
       "array([[[  1,   2,   3],\n",
       "        [  4,   5,   6],\n",
       "        [  7,   8,   9]],\n",
       "\n",
       "       [[  9,  19,  29],\n",
       "        [ 39,  49,  59],\n",
       "        [ 69,  79,  89]],\n",
       "\n",
       "       [[ 98, 198, 298],\n",
       "        [398, 498, 598],\n",
       "        [698, 798, 898]]])"
      ]
     },
     "execution_count": 11,
     "metadata": {},
     "output_type": "execute_result"
    }
   ],
   "source": [
    "np.subtract(T1, T2)"
   ]
  },
  {
   "cell_type": "code",
   "execution_count": 12,
   "id": "98ee7195",
   "metadata": {},
   "outputs": [
    {
     "data": {
      "text/plain": [
       "array([[[   0,    0,    0],\n",
       "        [   0,    0,    0],\n",
       "        [   0,    0,    0]],\n",
       "\n",
       "       [[  10,   20,   30],\n",
       "        [  40,   50,   60],\n",
       "        [  70,   80,   90]],\n",
       "\n",
       "       [[ 200,  400,  600],\n",
       "        [ 800, 1000, 1200],\n",
       "        [1400, 1600, 1800]]])"
      ]
     },
     "execution_count": 12,
     "metadata": {},
     "output_type": "execute_result"
    }
   ],
   "source": [
    "P = T1 * T2\n",
    "P"
   ]
  },
  {
   "cell_type": "code",
   "execution_count": 13,
   "id": "34bad3c0",
   "metadata": {},
   "outputs": [
    {
     "data": {
      "text/plain": [
       "array([[[   0,    0,    0],\n",
       "        [   0,    0,    0],\n",
       "        [   0,    0,    0]],\n",
       "\n",
       "       [[  10,   20,   30],\n",
       "        [  40,   50,   60],\n",
       "        [  70,   80,   90]],\n",
       "\n",
       "       [[ 200,  400,  600],\n",
       "        [ 800, 1000, 1200],\n",
       "        [1400, 1600, 1800]]])"
      ]
     },
     "execution_count": 13,
     "metadata": {},
     "output_type": "execute_result"
    }
   ],
   "source": [
    "np.multiply(T1, T2)"
   ]
  },
  {
   "cell_type": "code",
   "execution_count": 14,
   "id": "657985ed",
   "metadata": {},
   "outputs": [
    {
     "name": "stderr",
     "output_type": "stream",
     "text": [
      "<ipython-input-14-f9444d3a0924>:1: RuntimeWarning: divide by zero encountered in true_divide\n",
      "  D = T1 / T2\n"
     ]
    },
    {
     "data": {
      "text/plain": [
       "array([[[ inf,  inf,  inf],\n",
       "        [ inf,  inf,  inf],\n",
       "        [ inf,  inf,  inf]],\n",
       "\n",
       "       [[ 10.,  20.,  30.],\n",
       "        [ 40.,  50.,  60.],\n",
       "        [ 70.,  80.,  90.]],\n",
       "\n",
       "       [[ 50., 100., 150.],\n",
       "        [200., 250., 300.],\n",
       "        [350., 400., 450.]]])"
      ]
     },
     "execution_count": 14,
     "metadata": {},
     "output_type": "execute_result"
    }
   ],
   "source": [
    "D = T1 / T2\n",
    "D"
   ]
  },
  {
   "cell_type": "code",
   "execution_count": 15,
   "id": "a9e37b42",
   "metadata": {},
   "outputs": [
    {
     "name": "stderr",
     "output_type": "stream",
     "text": [
      "<ipython-input-15-b885ab1f8362>:1: RuntimeWarning: divide by zero encountered in true_divide\n",
      "  np.divide(T1, T2)\n"
     ]
    },
    {
     "data": {
      "text/plain": [
       "array([[[ inf,  inf,  inf],\n",
       "        [ inf,  inf,  inf],\n",
       "        [ inf,  inf,  inf]],\n",
       "\n",
       "       [[ 10.,  20.,  30.],\n",
       "        [ 40.,  50.,  60.],\n",
       "        [ 70.,  80.,  90.]],\n",
       "\n",
       "       [[ 50., 100., 150.],\n",
       "        [200., 250., 300.],\n",
       "        [350., 400., 450.]]])"
      ]
     },
     "execution_count": 15,
     "metadata": {},
     "output_type": "execute_result"
    }
   ],
   "source": [
    "np.divide(T1, T2)"
   ]
  },
  {
   "cell_type": "code",
   "execution_count": 16,
   "id": "29572c0d",
   "metadata": {},
   "outputs": [
    {
     "data": {
      "text/plain": [
       "array([[  63,   63,   63],\n",
       "       [ 630,  630,  630],\n",
       "       [6300, 6300, 6300]])"
      ]
     },
     "execution_count": 16,
     "metadata": {},
     "output_type": "execute_result"
    }
   ],
   "source": [
    "np.tensordot(T1, T2)"
   ]
  },
  {
   "cell_type": "code",
   "execution_count": 17,
   "id": "def92621",
   "metadata": {},
   "outputs": [],
   "source": [
    "import pandas as pd\n",
    "import numpy as np\n",
    "import matplotlib.pyplot as plt\n",
    "import math\n",
    "import warnings\n",
    "warnings.filterwarnings(\"ignore\")"
   ]
  },
  {
   "cell_type": "code",
   "execution_count": 18,
   "id": "6e73ed88",
   "metadata": {},
   "outputs": [
    {
     "data": {
      "text/plain": [
       "0    1\n",
       "1    2\n",
       "2    3\n",
       "3    4\n",
       "4    5\n",
       "5    6\n",
       "6    7\n",
       "dtype: int32"
      ]
     },
     "execution_count": 18,
     "metadata": {},
     "output_type": "execute_result"
    }
   ],
   "source": [
    "#Seriler\n",
    "v = np.array([1,2,3,4,5,6,7])\n",
    "s1 = pd.Series(v)\n",
    "s1"
   ]
  },
  {
   "cell_type": "code",
   "execution_count": 19,
   "id": "cb101e4a",
   "metadata": {},
   "outputs": [
    {
     "data": {
      "text/plain": [
       "dtype('int32')"
      ]
     },
     "execution_count": 19,
     "metadata": {},
     "output_type": "execute_result"
    }
   ],
   "source": [
    "s1.dtype"
   ]
  },
  {
   "cell_type": "code",
   "execution_count": 20,
   "id": "44209ee2",
   "metadata": {},
   "outputs": [
    {
     "data": {
      "text/plain": [
       "28"
      ]
     },
     "execution_count": 20,
     "metadata": {},
     "output_type": "execute_result"
    }
   ],
   "source": [
    "s1.nbytes"
   ]
  },
  {
   "cell_type": "code",
   "execution_count": 21,
   "id": "b60785b0",
   "metadata": {},
   "outputs": [
    {
     "data": {
      "text/plain": [
       "(7,)"
      ]
     },
     "execution_count": 21,
     "metadata": {},
     "output_type": "execute_result"
    }
   ],
   "source": [
    "s1.shape"
   ]
  },
  {
   "cell_type": "code",
   "execution_count": 22,
   "id": "28ce2823",
   "metadata": {},
   "outputs": [
    {
     "data": {
      "text/plain": [
       "7"
      ]
     },
     "execution_count": 22,
     "metadata": {},
     "output_type": "execute_result"
    }
   ],
   "source": [
    "len(s1)"
   ]
  },
  {
   "cell_type": "code",
   "execution_count": 23,
   "id": "820da43c",
   "metadata": {},
   "outputs": [
    {
     "data": {
      "text/plain": [
       "7"
      ]
     },
     "execution_count": 23,
     "metadata": {},
     "output_type": "execute_result"
    }
   ],
   "source": [
    "s1.count()"
   ]
  },
  {
   "cell_type": "code",
   "execution_count": 24,
   "id": "82041c05",
   "metadata": {},
   "outputs": [
    {
     "data": {
      "text/plain": [
       "a    1\n",
       "b    2\n",
       "c    3\n",
       "dtype: int64"
      ]
     },
     "execution_count": 24,
     "metadata": {},
     "output_type": "execute_result"
    }
   ],
   "source": [
    "s0 = pd.Series([1,2,3], index=['a', 'b', 'c'])\n",
    "s0"
   ]
  },
  {
   "cell_type": "code",
   "execution_count": 25,
   "id": "de0c4706",
   "metadata": {},
   "outputs": [
    {
     "data": {
      "text/plain": [
       "a    1\n",
       "b    2\n",
       "c    3\n",
       "d    4\n",
       "e    5\n",
       "f    6\n",
       "g    7\n",
       "dtype: int32"
      ]
     },
     "execution_count": 25,
     "metadata": {},
     "output_type": "execute_result"
    }
   ],
   "source": [
    "s1.index = ['a', 'b', 'c', 'd', 'e', 'f', 'g']\n",
    "s1"
   ]
  },
  {
   "cell_type": "code",
   "execution_count": 26,
   "id": "255cb6c9",
   "metadata": {},
   "outputs": [
    {
     "data": {
      "text/plain": [
       "(array([0.772468  , 0.44046586, 0.44372082, 0.58900377, 0.23963855,\n",
       "        0.05385055, 0.67932244, 0.80904876, 0.21788416, 0.50798569]),\n",
       " array([0, 1, 2, 3, 4, 5, 6, 7, 8, 9]),\n",
       " 0    0.772468\n",
       " 1    0.440466\n",
       " 2    0.443721\n",
       " 3    0.589004\n",
       " 4    0.239639\n",
       " 5    0.053851\n",
       " 6    0.679322\n",
       " 7    0.809049\n",
       " 8    0.217884\n",
       " 9    0.507986\n",
       " dtype: float64)"
      ]
     },
     "execution_count": 26,
     "metadata": {},
     "output_type": "execute_result"
    }
   ],
   "source": [
    "v2 = np.random.random(10)\n",
    "ind2 = np.arange(0,10)\n",
    "s = pd.Series(v2, ind2)\n",
    "v2, ind2, s"
   ]
  },
  {
   "cell_type": "code",
   "execution_count": 27,
   "id": "b47d69ef",
   "metadata": {},
   "outputs": [
    {
     "data": {
      "text/plain": [
       "a1    10\n",
       "a2    20\n",
       "a3    30\n",
       "a4    40\n",
       "dtype: int64"
      ]
     },
     "execution_count": 27,
     "metadata": {},
     "output_type": "execute_result"
    }
   ],
   "source": [
    "dict1 = {'a1':10, 'a2':20, 'a3':30, 'a4':40}\n",
    "s3 = pd.Series(dict1)\n",
    "s3"
   ]
  },
  {
   "cell_type": "code",
   "execution_count": 28,
   "id": "90c85fb6",
   "metadata": {},
   "outputs": [
    {
     "data": {
      "text/plain": [
       "0    99\n",
       "1    99\n",
       "2    99\n",
       "3    99\n",
       "4    99\n",
       "5    99\n",
       "dtype: int64"
      ]
     },
     "execution_count": 28,
     "metadata": {},
     "output_type": "execute_result"
    }
   ],
   "source": [
    "pd.Series(99, index = [0,1,2,3,4,5])"
   ]
  },
  {
   "cell_type": "code",
   "execution_count": 29,
   "id": "bf52a3f8",
   "metadata": {},
   "outputs": [
    {
     "data": {
      "text/plain": [
       "0    0.772468\n",
       "1    0.440466\n",
       "2    0.443721\n",
       "3    0.589004\n",
       "4    0.239639\n",
       "5    0.053851\n",
       "6    0.679322\n",
       "7    0.809049\n",
       "8    0.217884\n",
       "9    0.507986\n",
       "dtype: float64"
      ]
     },
     "execution_count": 29,
     "metadata": {},
     "output_type": "execute_result"
    }
   ],
   "source": [
    "s"
   ]
  },
  {
   "cell_type": "code",
   "execution_count": 30,
   "id": "69bc8fee",
   "metadata": {},
   "outputs": [
    {
     "data": {
      "text/plain": [
       "0    0.772468\n",
       "1    0.440466\n",
       "2    0.443721\n",
       "3    0.589004\n",
       "4    0.239639\n",
       "5    0.053851\n",
       "6    0.679322\n",
       "7    0.809049\n",
       "8    0.217884\n",
       "9    0.507986\n",
       "dtype: float64"
      ]
     },
     "execution_count": 30,
     "metadata": {},
     "output_type": "execute_result"
    }
   ],
   "source": [
    "s[:]"
   ]
  },
  {
   "cell_type": "code",
   "execution_count": 31,
   "id": "497707d3",
   "metadata": {},
   "outputs": [
    {
     "data": {
      "text/plain": [
       "0    0.772468\n",
       "1    0.440466\n",
       "2    0.443721\n",
       "dtype: float64"
      ]
     },
     "execution_count": 31,
     "metadata": {},
     "output_type": "execute_result"
    }
   ],
   "source": [
    "s[0:3]"
   ]
  },
  {
   "cell_type": "code",
   "execution_count": 33,
   "id": "854e1839",
   "metadata": {},
   "outputs": [
    {
     "data": {
      "text/plain": [
       "9    0.507986\n",
       "dtype: float64"
      ]
     },
     "execution_count": 33,
     "metadata": {},
     "output_type": "execute_result"
    }
   ],
   "source": [
    "s[-1:]"
   ]
  },
  {
   "cell_type": "code",
   "execution_count": 34,
   "id": "6fd16210",
   "metadata": {},
   "outputs": [
    {
     "data": {
      "text/plain": [
       "0    0.772468\n",
       "1    0.440466\n",
       "2    0.443721\n",
       "3    0.589004\n",
       "dtype: float64"
      ]
     },
     "execution_count": 34,
     "metadata": {},
     "output_type": "execute_result"
    }
   ],
   "source": [
    "s[:4]"
   ]
  },
  {
   "cell_type": "code",
   "execution_count": 35,
   "id": "b215921a",
   "metadata": {},
   "outputs": [
    {
     "data": {
      "text/plain": [
       "0    0.772468\n",
       "1    0.440466\n",
       "2    0.443721\n",
       "3    0.589004\n",
       "4    0.239639\n",
       "5    0.053851\n",
       "6    0.679322\n",
       "7    0.809049\n",
       "8    0.217884\n",
       "dtype: float64"
      ]
     },
     "execution_count": 35,
     "metadata": {},
     "output_type": "execute_result"
    }
   ],
   "source": [
    "s[:-1]"
   ]
  },
  {
   "cell_type": "code",
   "execution_count": 36,
   "id": "2b398557",
   "metadata": {},
   "outputs": [
    {
     "data": {
      "text/plain": [
       "a    1\n",
       "b    2\n",
       "c    3\n",
       "d    4\n",
       "e    5\n",
       "f    6\n",
       "g    7\n",
       "dtype: int32"
      ]
     },
     "execution_count": 36,
     "metadata": {},
     "output_type": "execute_result"
    }
   ],
   "source": [
    "s2 = s1.copy()\n",
    "s2"
   ]
  },
  {
   "cell_type": "code",
   "execution_count": 37,
   "id": "c24e5757",
   "metadata": {},
   "outputs": [
    {
     "data": {
      "text/plain": [
       "a1    10\n",
       "a2    20\n",
       "a3    30\n",
       "a4    40\n",
       "dtype: int64"
      ]
     },
     "execution_count": 37,
     "metadata": {},
     "output_type": "execute_result"
    }
   ],
   "source": [
    "s3"
   ]
  },
  {
   "cell_type": "code",
   "execution_count": 38,
   "id": "a5365913",
   "metadata": {},
   "outputs": [
    {
     "data": {
      "text/plain": [
       "a      1\n",
       "b      2\n",
       "c      3\n",
       "d      4\n",
       "e      5\n",
       "f      6\n",
       "g      7\n",
       "a1    10\n",
       "a2    20\n",
       "a3    30\n",
       "a4    40\n",
       "dtype: int64"
      ]
     },
     "execution_count": 38,
     "metadata": {},
     "output_type": "execute_result"
    }
   ],
   "source": [
    "s4 = s2.append(s3)\n",
    "s4"
   ]
  },
  {
   "cell_type": "code",
   "execution_count": 39,
   "id": "f59af576",
   "metadata": {},
   "outputs": [
    {
     "data": {
      "text/plain": [
       "a      1\n",
       "b      2\n",
       "c      3\n",
       "d      4\n",
       "e      5\n",
       "f      6\n",
       "g      7\n",
       "a1    10\n",
       "a2    20\n",
       "a3    30\n",
       "dtype: int64"
      ]
     },
     "execution_count": 39,
     "metadata": {},
     "output_type": "execute_result"
    }
   ],
   "source": [
    "s4.drop('a4', inplace = False)"
   ]
  },
  {
   "cell_type": "code",
   "execution_count": 40,
   "id": "d40008d7",
   "metadata": {},
   "outputs": [
    {
     "data": {
      "text/plain": [
       "a      1\n",
       "b      2\n",
       "c      3\n",
       "d      4\n",
       "e      5\n",
       "f      6\n",
       "g      7\n",
       "a1    10\n",
       "a2    20\n",
       "a3    30\n",
       "a4    40\n",
       "dtype: int64"
      ]
     },
     "execution_count": 40,
     "metadata": {},
     "output_type": "execute_result"
    }
   ],
   "source": [
    "s4"
   ]
  },
  {
   "cell_type": "code",
   "execution_count": 41,
   "id": "d2c0fc59",
   "metadata": {},
   "outputs": [],
   "source": [
    "s4.drop('a4', inplace = True)"
   ]
  },
  {
   "cell_type": "code",
   "execution_count": 42,
   "id": "c327a10e",
   "metadata": {},
   "outputs": [
    {
     "data": {
      "text/plain": [
       "a      1\n",
       "b      2\n",
       "c      3\n",
       "d      4\n",
       "e      5\n",
       "f      6\n",
       "g      7\n",
       "a1    10\n",
       "a2    20\n",
       "a3    30\n",
       "dtype: int64"
      ]
     },
     "execution_count": 42,
     "metadata": {},
     "output_type": "execute_result"
    }
   ],
   "source": [
    "s4"
   ]
  },
  {
   "cell_type": "code",
   "execution_count": 43,
   "id": "4d3b8a3d",
   "metadata": {},
   "outputs": [
    {
     "data": {
      "text/plain": [
       "a      1\n",
       "b      2\n",
       "c      3\n",
       "d      4\n",
       "e      5\n",
       "f      6\n",
       "g      7\n",
       "a1    10\n",
       "a2    20\n",
       "a3    30\n",
       "dtype: int64"
      ]
     },
     "execution_count": 43,
     "metadata": {},
     "output_type": "execute_result"
    }
   ],
   "source": [
    "s4"
   ]
  },
  {
   "cell_type": "code",
   "execution_count": 44,
   "id": "d56e70db",
   "metadata": {},
   "outputs": [
    {
     "data": {
      "text/plain": [
       "a      1\n",
       "b      2\n",
       "c      3\n",
       "d      4\n",
       "e      5\n",
       "f      6\n",
       "g      7\n",
       "a1    10\n",
       "a2    20\n",
       "a3    30\n",
       "a4     7\n",
       "dtype: int64"
      ]
     },
     "execution_count": 44,
     "metadata": {},
     "output_type": "execute_result"
    }
   ],
   "source": [
    "s4 = s4.append(pd.Series({'a4':7}))\n",
    "s4"
   ]
  },
  {
   "cell_type": "code",
   "execution_count": 45,
   "id": "eedcff86",
   "metadata": {},
   "outputs": [
    {
     "data": {
      "text/plain": [
       "(0    10\n",
       " 1    20\n",
       " 2    30\n",
       " dtype: int32,\n",
       " 0    1\n",
       " 1    2\n",
       " 2    3\n",
       " dtype: int32)"
      ]
     },
     "execution_count": 45,
     "metadata": {},
     "output_type": "execute_result"
    }
   ],
   "source": [
    "v1 = np.array([10,20,30])\n",
    "v2 = np.array([1,2,3])\n",
    "s1 = pd.Series(v1)\n",
    "s2 = pd.Series(v2)\n",
    "s1, s2"
   ]
  },
  {
   "cell_type": "code",
   "execution_count": 46,
   "id": "3be9806f",
   "metadata": {},
   "outputs": [
    {
     "data": {
      "text/plain": [
       "0    11\n",
       "1    22\n",
       "2    33\n",
       "dtype: int32"
      ]
     },
     "execution_count": 46,
     "metadata": {},
     "output_type": "execute_result"
    }
   ],
   "source": [
    "s1.add(s2)"
   ]
  },
  {
   "cell_type": "code",
   "execution_count": 47,
   "id": "51fe1b8c",
   "metadata": {},
   "outputs": [
    {
     "data": {
      "text/plain": [
       "0     9\n",
       "1    18\n",
       "2    27\n",
       "dtype: int32"
      ]
     },
     "execution_count": 47,
     "metadata": {},
     "output_type": "execute_result"
    }
   ],
   "source": [
    "s1.sub(s2)"
   ]
  },
  {
   "cell_type": "code",
   "execution_count": 48,
   "id": "901fc55b",
   "metadata": {},
   "outputs": [
    {
     "data": {
      "text/plain": [
       "0     9\n",
       "1    18\n",
       "2    27\n",
       "dtype: int32"
      ]
     },
     "execution_count": 48,
     "metadata": {},
     "output_type": "execute_result"
    }
   ],
   "source": [
    "s1.subtract(s2)"
   ]
  },
  {
   "cell_type": "code",
   "execution_count": 49,
   "id": "91599a13",
   "metadata": {},
   "outputs": [
    {
     "data": {
      "text/plain": [
       "0    19\n",
       "1    29\n",
       "2    39\n",
       "dtype: int32"
      ]
     },
     "execution_count": 49,
     "metadata": {},
     "output_type": "execute_result"
    }
   ],
   "source": [
    "s1.add(9)"
   ]
  },
  {
   "cell_type": "code",
   "execution_count": 50,
   "id": "5a2becdc",
   "metadata": {},
   "outputs": [
    {
     "data": {
      "text/plain": [
       "0    10\n",
       "1    40\n",
       "2    90\n",
       "dtype: int32"
      ]
     },
     "execution_count": 50,
     "metadata": {},
     "output_type": "execute_result"
    }
   ],
   "source": [
    "s1.mul(s2)"
   ]
  },
  {
   "cell_type": "code",
   "execution_count": 51,
   "id": "799820fb",
   "metadata": {},
   "outputs": [
    {
     "data": {
      "text/plain": [
       "0    10\n",
       "1    40\n",
       "2    90\n",
       "dtype: int32"
      ]
     },
     "execution_count": 51,
     "metadata": {},
     "output_type": "execute_result"
    }
   ],
   "source": [
    "s1.multiply(s2)"
   ]
  },
  {
   "cell_type": "code",
   "execution_count": 52,
   "id": "9f5ec80c",
   "metadata": {},
   "outputs": [
    {
     "data": {
      "text/plain": [
       "0    10.0\n",
       "1    10.0\n",
       "2    10.0\n",
       "dtype: float64"
      ]
     },
     "execution_count": 52,
     "metadata": {},
     "output_type": "execute_result"
    }
   ],
   "source": [
    "s1.divide(s2)"
   ]
  },
  {
   "cell_type": "code",
   "execution_count": 54,
   "id": "a54f19f8",
   "metadata": {},
   "outputs": [
    {
     "data": {
      "text/plain": [
       "0    10.0\n",
       "1    10.0\n",
       "2    10.0\n",
       "dtype: float64"
      ]
     },
     "execution_count": 54,
     "metadata": {},
     "output_type": "execute_result"
    }
   ],
   "source": [
    "s1.div(s2)"
   ]
  },
  {
   "cell_type": "code",
   "execution_count": 55,
   "id": "65dab672",
   "metadata": {},
   "outputs": [
    {
     "data": {
      "text/plain": [
       "30"
      ]
     },
     "execution_count": 55,
     "metadata": {},
     "output_type": "execute_result"
    }
   ],
   "source": [
    "s1.max()"
   ]
  },
  {
   "cell_type": "code",
   "execution_count": 56,
   "id": "ac7ef6ab",
   "metadata": {},
   "outputs": [
    {
     "data": {
      "text/plain": [
       "10"
      ]
     },
     "execution_count": 56,
     "metadata": {},
     "output_type": "execute_result"
    }
   ],
   "source": [
    "s1.min()"
   ]
  },
  {
   "cell_type": "code",
   "execution_count": 57,
   "id": "86e984d3",
   "metadata": {},
   "outputs": [
    {
     "data": {
      "text/plain": [
       "0    1\n",
       "1    1\n",
       "2    2\n",
       "3    2\n",
       "4    3\n",
       "5    3\n",
       "dtype: int64"
      ]
     },
     "execution_count": 57,
     "metadata": {},
     "output_type": "execute_result"
    }
   ],
   "source": [
    "s5 = pd.Series([1,1,2,2,3,3], index = [0,1,2,3,4,5])\n",
    "s5"
   ]
  },
  {
   "cell_type": "code",
   "execution_count": 58,
   "id": "b50fda8f",
   "metadata": {},
   "outputs": [
    {
     "data": {
      "text/plain": [
       "1    2\n",
       "2    2\n",
       "3    2\n",
       "dtype: int64"
      ]
     },
     "execution_count": 58,
     "metadata": {},
     "output_type": "execute_result"
    }
   ],
   "source": [
    "s5.value_counts()"
   ]
  },
  {
   "cell_type": "code",
   "execution_count": 59,
   "id": "0846fa3b",
   "metadata": {},
   "outputs": [
    {
     "data": {
      "text/html": [
       "<div>\n",
       "<style scoped>\n",
       "    .dataframe tbody tr th:only-of-type {\n",
       "        vertical-align: middle;\n",
       "    }\n",
       "\n",
       "    .dataframe tbody tr th {\n",
       "        vertical-align: top;\n",
       "    }\n",
       "\n",
       "    .dataframe thead th {\n",
       "        text-align: right;\n",
       "    }\n",
       "</style>\n",
       "<table border=\"1\" class=\"dataframe\">\n",
       "  <thead>\n",
       "    <tr style=\"text-align: right;\">\n",
       "      <th></th>\n",
       "    </tr>\n",
       "  </thead>\n",
       "  <tbody>\n",
       "  </tbody>\n",
       "</table>\n",
       "</div>"
      ],
      "text/plain": [
       "Empty DataFrame\n",
       "Columns: []\n",
       "Index: []"
      ]
     },
     "execution_count": 59,
     "metadata": {},
     "output_type": "execute_result"
    }
   ],
   "source": [
    "df = pd.DataFrame()\n",
    "df"
   ]
  },
  {
   "cell_type": "code",
   "execution_count": 60,
   "id": "b2c4bed2",
   "metadata": {},
   "outputs": [
    {
     "data": {
      "text/html": [
       "<div>\n",
       "<style scoped>\n",
       "    .dataframe tbody tr th:only-of-type {\n",
       "        vertical-align: middle;\n",
       "    }\n",
       "\n",
       "    .dataframe tbody tr th {\n",
       "        vertical-align: top;\n",
       "    }\n",
       "\n",
       "    .dataframe thead th {\n",
       "        text-align: right;\n",
       "    }\n",
       "</style>\n",
       "<table border=\"1\" class=\"dataframe\">\n",
       "  <thead>\n",
       "    <tr style=\"text-align: right;\">\n",
       "      <th></th>\n",
       "      <th>0</th>\n",
       "    </tr>\n",
       "  </thead>\n",
       "  <tbody>\n",
       "    <tr>\n",
       "      <th>0</th>\n",
       "      <td>Java</td>\n",
       "    </tr>\n",
       "    <tr>\n",
       "      <th>1</th>\n",
       "      <td>Python</td>\n",
       "    </tr>\n",
       "    <tr>\n",
       "      <th>2</th>\n",
       "      <td>C</td>\n",
       "    </tr>\n",
       "    <tr>\n",
       "      <th>3</th>\n",
       "      <td>C++</td>\n",
       "    </tr>\n",
       "  </tbody>\n",
       "</table>\n",
       "</div>"
      ],
      "text/plain": [
       "        0\n",
       "0    Java\n",
       "1  Python\n",
       "2       C\n",
       "3     C++"
      ]
     },
     "execution_count": 60,
     "metadata": {},
     "output_type": "execute_result"
    }
   ],
   "source": [
    "lang = ['Java', 'Python', 'C', 'C++']\n",
    "df = pd.DataFrame(lang)\n",
    "df"
   ]
  },
  {
   "cell_type": "code",
   "execution_count": 61,
   "id": "302aac96",
   "metadata": {},
   "outputs": [
    {
     "data": {
      "text/html": [
       "<div>\n",
       "<style scoped>\n",
       "    .dataframe tbody tr th:only-of-type {\n",
       "        vertical-align: middle;\n",
       "    }\n",
       "\n",
       "    .dataframe tbody tr th {\n",
       "        vertical-align: top;\n",
       "    }\n",
       "\n",
       "    .dataframe thead th {\n",
       "        text-align: right;\n",
       "    }\n",
       "</style>\n",
       "<table border=\"1\" class=\"dataframe\">\n",
       "  <thead>\n",
       "    <tr style=\"text-align: right;\">\n",
       "      <th></th>\n",
       "      <th>0</th>\n",
       "      <th>1</th>\n",
       "    </tr>\n",
       "  </thead>\n",
       "  <tbody>\n",
       "    <tr>\n",
       "      <th>0</th>\n",
       "      <td>Java</td>\n",
       "      <td>1</td>\n",
       "    </tr>\n",
       "    <tr>\n",
       "      <th>1</th>\n",
       "      <td>Python</td>\n",
       "      <td>2</td>\n",
       "    </tr>\n",
       "    <tr>\n",
       "      <th>2</th>\n",
       "      <td>C</td>\n",
       "      <td>3</td>\n",
       "    </tr>\n",
       "    <tr>\n",
       "      <th>3</th>\n",
       "      <td>C++</td>\n",
       "      <td>4</td>\n",
       "    </tr>\n",
       "  </tbody>\n",
       "</table>\n",
       "</div>"
      ],
      "text/plain": [
       "        0  1\n",
       "0    Java  1\n",
       "1  Python  2\n",
       "2       C  3\n",
       "3     C++  4"
      ]
     },
     "execution_count": 61,
     "metadata": {},
     "output_type": "execute_result"
    }
   ],
   "source": [
    "rating = [1,2,3,4]\n",
    "df[1] = rating\n",
    "df"
   ]
  },
  {
   "cell_type": "code",
   "execution_count": 62,
   "id": "c737608f",
   "metadata": {},
   "outputs": [
    {
     "data": {
      "text/html": [
       "<div>\n",
       "<style scoped>\n",
       "    .dataframe tbody tr th:only-of-type {\n",
       "        vertical-align: middle;\n",
       "    }\n",
       "\n",
       "    .dataframe tbody tr th {\n",
       "        vertical-align: top;\n",
       "    }\n",
       "\n",
       "    .dataframe thead th {\n",
       "        text-align: right;\n",
       "    }\n",
       "</style>\n",
       "<table border=\"1\" class=\"dataframe\">\n",
       "  <thead>\n",
       "    <tr style=\"text-align: right;\">\n",
       "      <th></th>\n",
       "      <th>Language</th>\n",
       "      <th>Rating</th>\n",
       "    </tr>\n",
       "  </thead>\n",
       "  <tbody>\n",
       "    <tr>\n",
       "      <th>0</th>\n",
       "      <td>Java</td>\n",
       "      <td>1</td>\n",
       "    </tr>\n",
       "    <tr>\n",
       "      <th>1</th>\n",
       "      <td>Python</td>\n",
       "      <td>2</td>\n",
       "    </tr>\n",
       "    <tr>\n",
       "      <th>2</th>\n",
       "      <td>C</td>\n",
       "      <td>3</td>\n",
       "    </tr>\n",
       "    <tr>\n",
       "      <th>3</th>\n",
       "      <td>C++</td>\n",
       "      <td>4</td>\n",
       "    </tr>\n",
       "  </tbody>\n",
       "</table>\n",
       "</div>"
      ],
      "text/plain": [
       "  Language  Rating\n",
       "0     Java       1\n",
       "1   Python       2\n",
       "2        C       3\n",
       "3      C++       4"
      ]
     },
     "execution_count": 62,
     "metadata": {},
     "output_type": "execute_result"
    }
   ],
   "source": [
    "df.columns = ['Language', 'Rating']\n",
    "df"
   ]
  },
  {
   "cell_type": "code",
   "execution_count": 63,
   "id": "bd411f4d",
   "metadata": {},
   "outputs": [],
   "source": [
    "data = [{'a':1, 'b':2}, {'a':5, 'b':10, 'c':20}]\n",
    "\n",
    "df2 = pd.DataFrame(data)\n",
    "df3 = pd.DataFrame(data, index = ['row1', 'row2'], columns = ['a', 'b'])\n",
    "df4 = pd.DataFrame(data, index = ['row1', 'row2'], columns = ['a', 'b', 'c'])\n",
    "df5 = pd.DataFrame(data, index = ['row1', 'row2'], columns = ['a', 'b', 'c', 'd'])"
   ]
  },
  {
   "cell_type": "code",
   "execution_count": 64,
   "id": "36ad75e3",
   "metadata": {},
   "outputs": [
    {
     "data": {
      "text/html": [
       "<div>\n",
       "<style scoped>\n",
       "    .dataframe tbody tr th:only-of-type {\n",
       "        vertical-align: middle;\n",
       "    }\n",
       "\n",
       "    .dataframe tbody tr th {\n",
       "        vertical-align: top;\n",
       "    }\n",
       "\n",
       "    .dataframe thead th {\n",
       "        text-align: right;\n",
       "    }\n",
       "</style>\n",
       "<table border=\"1\" class=\"dataframe\">\n",
       "  <thead>\n",
       "    <tr style=\"text-align: right;\">\n",
       "      <th></th>\n",
       "      <th>a</th>\n",
       "      <th>b</th>\n",
       "      <th>c</th>\n",
       "    </tr>\n",
       "  </thead>\n",
       "  <tbody>\n",
       "    <tr>\n",
       "      <th>0</th>\n",
       "      <td>1</td>\n",
       "      <td>2</td>\n",
       "      <td>NaN</td>\n",
       "    </tr>\n",
       "    <tr>\n",
       "      <th>1</th>\n",
       "      <td>5</td>\n",
       "      <td>10</td>\n",
       "      <td>20.0</td>\n",
       "    </tr>\n",
       "  </tbody>\n",
       "</table>\n",
       "</div>"
      ],
      "text/plain": [
       "   a   b     c\n",
       "0  1   2   NaN\n",
       "1  5  10  20.0"
      ]
     },
     "execution_count": 64,
     "metadata": {},
     "output_type": "execute_result"
    }
   ],
   "source": [
    "df2"
   ]
  },
  {
   "cell_type": "code",
   "execution_count": 65,
   "id": "545ee7b4",
   "metadata": {},
   "outputs": [
    {
     "data": {
      "text/html": [
       "<div>\n",
       "<style scoped>\n",
       "    .dataframe tbody tr th:only-of-type {\n",
       "        vertical-align: middle;\n",
       "    }\n",
       "\n",
       "    .dataframe tbody tr th {\n",
       "        vertical-align: top;\n",
       "    }\n",
       "\n",
       "    .dataframe thead th {\n",
       "        text-align: right;\n",
       "    }\n",
       "</style>\n",
       "<table border=\"1\" class=\"dataframe\">\n",
       "  <thead>\n",
       "    <tr style=\"text-align: right;\">\n",
       "      <th></th>\n",
       "      <th>a</th>\n",
       "      <th>b</th>\n",
       "    </tr>\n",
       "  </thead>\n",
       "  <tbody>\n",
       "    <tr>\n",
       "      <th>row1</th>\n",
       "      <td>1</td>\n",
       "      <td>2</td>\n",
       "    </tr>\n",
       "    <tr>\n",
       "      <th>row2</th>\n",
       "      <td>5</td>\n",
       "      <td>10</td>\n",
       "    </tr>\n",
       "  </tbody>\n",
       "</table>\n",
       "</div>"
      ],
      "text/plain": [
       "      a   b\n",
       "row1  1   2\n",
       "row2  5  10"
      ]
     },
     "execution_count": 65,
     "metadata": {},
     "output_type": "execute_result"
    }
   ],
   "source": [
    "df3"
   ]
  },
  {
   "cell_type": "code",
   "execution_count": 66,
   "id": "14ad11db",
   "metadata": {},
   "outputs": [
    {
     "data": {
      "text/html": [
       "<div>\n",
       "<style scoped>\n",
       "    .dataframe tbody tr th:only-of-type {\n",
       "        vertical-align: middle;\n",
       "    }\n",
       "\n",
       "    .dataframe tbody tr th {\n",
       "        vertical-align: top;\n",
       "    }\n",
       "\n",
       "    .dataframe thead th {\n",
       "        text-align: right;\n",
       "    }\n",
       "</style>\n",
       "<table border=\"1\" class=\"dataframe\">\n",
       "  <thead>\n",
       "    <tr style=\"text-align: right;\">\n",
       "      <th></th>\n",
       "      <th>a</th>\n",
       "      <th>b</th>\n",
       "      <th>c</th>\n",
       "    </tr>\n",
       "  </thead>\n",
       "  <tbody>\n",
       "    <tr>\n",
       "      <th>row1</th>\n",
       "      <td>1</td>\n",
       "      <td>2</td>\n",
       "      <td>NaN</td>\n",
       "    </tr>\n",
       "    <tr>\n",
       "      <th>row2</th>\n",
       "      <td>5</td>\n",
       "      <td>10</td>\n",
       "      <td>20.0</td>\n",
       "    </tr>\n",
       "  </tbody>\n",
       "</table>\n",
       "</div>"
      ],
      "text/plain": [
       "      a   b     c\n",
       "row1  1   2   NaN\n",
       "row2  5  10  20.0"
      ]
     },
     "execution_count": 66,
     "metadata": {},
     "output_type": "execute_result"
    }
   ],
   "source": [
    "df4"
   ]
  },
  {
   "cell_type": "code",
   "execution_count": 67,
   "id": "4f6fff41",
   "metadata": {},
   "outputs": [
    {
     "data": {
      "text/html": [
       "<div>\n",
       "<style scoped>\n",
       "    .dataframe tbody tr th:only-of-type {\n",
       "        vertical-align: middle;\n",
       "    }\n",
       "\n",
       "    .dataframe tbody tr th {\n",
       "        vertical-align: top;\n",
       "    }\n",
       "\n",
       "    .dataframe thead th {\n",
       "        text-align: right;\n",
       "    }\n",
       "</style>\n",
       "<table border=\"1\" class=\"dataframe\">\n",
       "  <thead>\n",
       "    <tr style=\"text-align: right;\">\n",
       "      <th></th>\n",
       "      <th>a</th>\n",
       "      <th>b</th>\n",
       "      <th>c</th>\n",
       "      <th>d</th>\n",
       "    </tr>\n",
       "  </thead>\n",
       "  <tbody>\n",
       "    <tr>\n",
       "      <th>row1</th>\n",
       "      <td>1</td>\n",
       "      <td>2</td>\n",
       "      <td>NaN</td>\n",
       "      <td>NaN</td>\n",
       "    </tr>\n",
       "    <tr>\n",
       "      <th>row2</th>\n",
       "      <td>5</td>\n",
       "      <td>10</td>\n",
       "      <td>20.0</td>\n",
       "      <td>NaN</td>\n",
       "    </tr>\n",
       "  </tbody>\n",
       "</table>\n",
       "</div>"
      ],
      "text/plain": [
       "      a   b     c   d\n",
       "row1  1   2   NaN NaN\n",
       "row2  5  10  20.0 NaN"
      ]
     },
     "execution_count": 67,
     "metadata": {},
     "output_type": "execute_result"
    }
   ],
   "source": [
    "df5"
   ]
  },
  {
   "cell_type": "code",
   "execution_count": 68,
   "id": "df6bafcc",
   "metadata": {},
   "outputs": [
    {
     "data": {
      "text/html": [
       "<div>\n",
       "<style scoped>\n",
       "    .dataframe tbody tr th:only-of-type {\n",
       "        vertical-align: middle;\n",
       "    }\n",
       "\n",
       "    .dataframe tbody tr th {\n",
       "        vertical-align: top;\n",
       "    }\n",
       "\n",
       "    .dataframe thead th {\n",
       "        text-align: right;\n",
       "    }\n",
       "</style>\n",
       "<table border=\"1\" class=\"dataframe\">\n",
       "  <thead>\n",
       "    <tr style=\"text-align: right;\">\n",
       "      <th></th>\n",
       "      <th>ID</th>\n",
       "      <th>Name</th>\n",
       "    </tr>\n",
       "  </thead>\n",
       "  <tbody>\n",
       "    <tr>\n",
       "      <th>0</th>\n",
       "      <td>1</td>\n",
       "      <td>Dogu</td>\n",
       "    </tr>\n",
       "    <tr>\n",
       "      <th>1</th>\n",
       "      <td>2</td>\n",
       "      <td>Bati</td>\n",
       "    </tr>\n",
       "    <tr>\n",
       "      <th>2</th>\n",
       "      <td>3</td>\n",
       "      <td>Ross</td>\n",
       "    </tr>\n",
       "    <tr>\n",
       "      <th>3</th>\n",
       "      <td>4</td>\n",
       "      <td>John</td>\n",
       "    </tr>\n",
       "  </tbody>\n",
       "</table>\n",
       "</div>"
      ],
      "text/plain": [
       "   ID  Name\n",
       "0   1  Dogu\n",
       "1   2  Bati\n",
       "2   3  Ross\n",
       "3   4  John"
      ]
     },
     "execution_count": 68,
     "metadata": {},
     "output_type": "execute_result"
    }
   ],
   "source": [
    "df0 = pd.DataFrame({'ID':[1,2,3,4], 'Name':['Dogu', 'Bati', 'Ross', 'John']})\n",
    "df0"
   ]
  },
  {
   "cell_type": "code",
   "execution_count": 78,
   "id": "0bf8f73d",
   "metadata": {},
   "outputs": [
    {
     "data": {
      "text/plain": [
       "DatetimeIndex(['2022-03-14', '2022-03-15', '2022-03-16', '2022-03-17',\n",
       "               '2022-03-18', '2022-03-19', '2022-03-20'],\n",
       "              dtype='datetime64[ns]', freq='D')"
      ]
     },
     "execution_count": 78,
     "metadata": {},
     "output_type": "execute_result"
    }
   ],
   "source": [
    "dates = pd.date_range(start = '2022-03-14', end = '2022-03-20')\n",
    "dates"
   ]
  },
  {
   "cell_type": "code",
   "execution_count": 79,
   "id": "d1214411",
   "metadata": {},
   "outputs": [
    {
     "data": {
      "text/plain": [
       "DatetimeIndex(['2022-03-14 23:07:24.767238', '2022-03-15 23:07:24.767238',\n",
       "               '2022-03-16 23:07:24.767238', '2022-03-17 23:07:24.767238',\n",
       "               '2022-03-18 23:07:24.767238', '2022-03-19 23:07:24.767238',\n",
       "               '2022-03-20 23:07:24.767238'],\n",
       "              dtype='datetime64[ns]', freq='D')"
      ]
     },
     "execution_count": 79,
     "metadata": {},
     "output_type": "execute_result"
    }
   ],
   "source": [
    "dates2 = pd.date_range('today', periods = 7)\n",
    "dates2"
   ]
  },
  {
   "cell_type": "code",
   "execution_count": 80,
   "id": "69122330",
   "metadata": {},
   "outputs": [
    {
     "data": {
      "text/plain": [
       "array([[0.438155  , 0.25091452, 0.54164681, 0.42650328, 0.39594743,\n",
       "        0.39283023, 0.53855152],\n",
       "       [0.33270018, 0.81121433, 0.61335591, 0.37094249, 0.0104957 ,\n",
       "        0.44079229, 0.53236709],\n",
       "       [0.15063416, 0.98100748, 0.82229311, 0.45590219, 0.30017617,\n",
       "        0.60555873, 0.35327239],\n",
       "       [0.35856624, 0.6821598 , 0.04660087, 0.93791904, 0.74350248,\n",
       "        0.19469592, 0.11321983],\n",
       "       [0.00558573, 0.26511393, 0.88135901, 0.25768422, 0.88359787,\n",
       "        0.29903993, 0.45366654],\n",
       "       [0.47587581, 0.7842552 , 0.97600774, 0.7008437 , 0.19826112,\n",
       "        0.0129933 , 0.08111595],\n",
       "       [0.05660992, 0.09345375, 0.74941715, 0.46311453, 0.47396986,\n",
       "        0.61101755, 0.18962917]])"
      ]
     },
     "execution_count": 80,
     "metadata": {},
     "output_type": "execute_result"
    }
   ],
   "source": [
    "M = np.random.random((7,7))\n",
    "M"
   ]
  },
  {
   "cell_type": "code",
   "execution_count": 81,
   "id": "88313a74",
   "metadata": {},
   "outputs": [
    {
     "data": {
      "text/html": [
       "<div>\n",
       "<style scoped>\n",
       "    .dataframe tbody tr th:only-of-type {\n",
       "        vertical-align: middle;\n",
       "    }\n",
       "\n",
       "    .dataframe tbody tr th {\n",
       "        vertical-align: top;\n",
       "    }\n",
       "\n",
       "    .dataframe thead th {\n",
       "        text-align: right;\n",
       "    }\n",
       "</style>\n",
       "<table border=\"1\" class=\"dataframe\">\n",
       "  <thead>\n",
       "    <tr style=\"text-align: right;\">\n",
       "      <th></th>\n",
       "      <th>0</th>\n",
       "      <th>1</th>\n",
       "      <th>2</th>\n",
       "      <th>3</th>\n",
       "      <th>4</th>\n",
       "      <th>5</th>\n",
       "      <th>6</th>\n",
       "    </tr>\n",
       "  </thead>\n",
       "  <tbody>\n",
       "    <tr>\n",
       "      <th>2022-03-14</th>\n",
       "      <td>0.438155</td>\n",
       "      <td>0.250915</td>\n",
       "      <td>0.541647</td>\n",
       "      <td>0.426503</td>\n",
       "      <td>0.395947</td>\n",
       "      <td>0.392830</td>\n",
       "      <td>0.538552</td>\n",
       "    </tr>\n",
       "    <tr>\n",
       "      <th>2022-03-15</th>\n",
       "      <td>0.332700</td>\n",
       "      <td>0.811214</td>\n",
       "      <td>0.613356</td>\n",
       "      <td>0.370942</td>\n",
       "      <td>0.010496</td>\n",
       "      <td>0.440792</td>\n",
       "      <td>0.532367</td>\n",
       "    </tr>\n",
       "    <tr>\n",
       "      <th>2022-03-16</th>\n",
       "      <td>0.150634</td>\n",
       "      <td>0.981007</td>\n",
       "      <td>0.822293</td>\n",
       "      <td>0.455902</td>\n",
       "      <td>0.300176</td>\n",
       "      <td>0.605559</td>\n",
       "      <td>0.353272</td>\n",
       "    </tr>\n",
       "    <tr>\n",
       "      <th>2022-03-17</th>\n",
       "      <td>0.358566</td>\n",
       "      <td>0.682160</td>\n",
       "      <td>0.046601</td>\n",
       "      <td>0.937919</td>\n",
       "      <td>0.743502</td>\n",
       "      <td>0.194696</td>\n",
       "      <td>0.113220</td>\n",
       "    </tr>\n",
       "    <tr>\n",
       "      <th>2022-03-18</th>\n",
       "      <td>0.005586</td>\n",
       "      <td>0.265114</td>\n",
       "      <td>0.881359</td>\n",
       "      <td>0.257684</td>\n",
       "      <td>0.883598</td>\n",
       "      <td>0.299040</td>\n",
       "      <td>0.453667</td>\n",
       "    </tr>\n",
       "    <tr>\n",
       "      <th>2022-03-19</th>\n",
       "      <td>0.475876</td>\n",
       "      <td>0.784255</td>\n",
       "      <td>0.976008</td>\n",
       "      <td>0.700844</td>\n",
       "      <td>0.198261</td>\n",
       "      <td>0.012993</td>\n",
       "      <td>0.081116</td>\n",
       "    </tr>\n",
       "    <tr>\n",
       "      <th>2022-03-20</th>\n",
       "      <td>0.056610</td>\n",
       "      <td>0.093454</td>\n",
       "      <td>0.749417</td>\n",
       "      <td>0.463115</td>\n",
       "      <td>0.473970</td>\n",
       "      <td>0.611018</td>\n",
       "      <td>0.189629</td>\n",
       "    </tr>\n",
       "  </tbody>\n",
       "</table>\n",
       "</div>"
      ],
      "text/plain": [
       "                   0         1         2         3         4         5  \\\n",
       "2022-03-14  0.438155  0.250915  0.541647  0.426503  0.395947  0.392830   \n",
       "2022-03-15  0.332700  0.811214  0.613356  0.370942  0.010496  0.440792   \n",
       "2022-03-16  0.150634  0.981007  0.822293  0.455902  0.300176  0.605559   \n",
       "2022-03-17  0.358566  0.682160  0.046601  0.937919  0.743502  0.194696   \n",
       "2022-03-18  0.005586  0.265114  0.881359  0.257684  0.883598  0.299040   \n",
       "2022-03-19  0.475876  0.784255  0.976008  0.700844  0.198261  0.012993   \n",
       "2022-03-20  0.056610  0.093454  0.749417  0.463115  0.473970  0.611018   \n",
       "\n",
       "                   6  \n",
       "2022-03-14  0.538552  \n",
       "2022-03-15  0.532367  \n",
       "2022-03-16  0.353272  \n",
       "2022-03-17  0.113220  \n",
       "2022-03-18  0.453667  \n",
       "2022-03-19  0.081116  \n",
       "2022-03-20  0.189629  "
      ]
     },
     "execution_count": 81,
     "metadata": {},
     "output_type": "execute_result"
    }
   ],
   "source": [
    "dframe = pd.DataFrame(M, index = dates)\n",
    "dframe"
   ]
  },
  {
   "cell_type": "code",
   "execution_count": 82,
   "id": "eb65ac5e",
   "metadata": {},
   "outputs": [
    {
     "data": {
      "text/html": [
       "<div>\n",
       "<style scoped>\n",
       "    .dataframe tbody tr th:only-of-type {\n",
       "        vertical-align: middle;\n",
       "    }\n",
       "\n",
       "    .dataframe tbody tr th {\n",
       "        vertical-align: top;\n",
       "    }\n",
       "\n",
       "    .dataframe thead th {\n",
       "        text-align: right;\n",
       "    }\n",
       "</style>\n",
       "<table border=\"1\" class=\"dataframe\">\n",
       "  <thead>\n",
       "    <tr style=\"text-align: right;\">\n",
       "      <th></th>\n",
       "      <th>C1</th>\n",
       "      <th>C2</th>\n",
       "      <th>C3</th>\n",
       "      <th>C4</th>\n",
       "      <th>C5</th>\n",
       "      <th>C6</th>\n",
       "      <th>C7</th>\n",
       "    </tr>\n",
       "  </thead>\n",
       "  <tbody>\n",
       "    <tr>\n",
       "      <th>2022-03-14</th>\n",
       "      <td>0.438155</td>\n",
       "      <td>0.250915</td>\n",
       "      <td>0.541647</td>\n",
       "      <td>0.426503</td>\n",
       "      <td>0.395947</td>\n",
       "      <td>0.392830</td>\n",
       "      <td>0.538552</td>\n",
       "    </tr>\n",
       "    <tr>\n",
       "      <th>2022-03-15</th>\n",
       "      <td>0.332700</td>\n",
       "      <td>0.811214</td>\n",
       "      <td>0.613356</td>\n",
       "      <td>0.370942</td>\n",
       "      <td>0.010496</td>\n",
       "      <td>0.440792</td>\n",
       "      <td>0.532367</td>\n",
       "    </tr>\n",
       "    <tr>\n",
       "      <th>2022-03-16</th>\n",
       "      <td>0.150634</td>\n",
       "      <td>0.981007</td>\n",
       "      <td>0.822293</td>\n",
       "      <td>0.455902</td>\n",
       "      <td>0.300176</td>\n",
       "      <td>0.605559</td>\n",
       "      <td>0.353272</td>\n",
       "    </tr>\n",
       "    <tr>\n",
       "      <th>2022-03-17</th>\n",
       "      <td>0.358566</td>\n",
       "      <td>0.682160</td>\n",
       "      <td>0.046601</td>\n",
       "      <td>0.937919</td>\n",
       "      <td>0.743502</td>\n",
       "      <td>0.194696</td>\n",
       "      <td>0.113220</td>\n",
       "    </tr>\n",
       "    <tr>\n",
       "      <th>2022-03-18</th>\n",
       "      <td>0.005586</td>\n",
       "      <td>0.265114</td>\n",
       "      <td>0.881359</td>\n",
       "      <td>0.257684</td>\n",
       "      <td>0.883598</td>\n",
       "      <td>0.299040</td>\n",
       "      <td>0.453667</td>\n",
       "    </tr>\n",
       "    <tr>\n",
       "      <th>2022-03-19</th>\n",
       "      <td>0.475876</td>\n",
       "      <td>0.784255</td>\n",
       "      <td>0.976008</td>\n",
       "      <td>0.700844</td>\n",
       "      <td>0.198261</td>\n",
       "      <td>0.012993</td>\n",
       "      <td>0.081116</td>\n",
       "    </tr>\n",
       "    <tr>\n",
       "      <th>2022-03-20</th>\n",
       "      <td>0.056610</td>\n",
       "      <td>0.093454</td>\n",
       "      <td>0.749417</td>\n",
       "      <td>0.463115</td>\n",
       "      <td>0.473970</td>\n",
       "      <td>0.611018</td>\n",
       "      <td>0.189629</td>\n",
       "    </tr>\n",
       "  </tbody>\n",
       "</table>\n",
       "</div>"
      ],
      "text/plain": [
       "                  C1        C2        C3        C4        C5        C6  \\\n",
       "2022-03-14  0.438155  0.250915  0.541647  0.426503  0.395947  0.392830   \n",
       "2022-03-15  0.332700  0.811214  0.613356  0.370942  0.010496  0.440792   \n",
       "2022-03-16  0.150634  0.981007  0.822293  0.455902  0.300176  0.605559   \n",
       "2022-03-17  0.358566  0.682160  0.046601  0.937919  0.743502  0.194696   \n",
       "2022-03-18  0.005586  0.265114  0.881359  0.257684  0.883598  0.299040   \n",
       "2022-03-19  0.475876  0.784255  0.976008  0.700844  0.198261  0.012993   \n",
       "2022-03-20  0.056610  0.093454  0.749417  0.463115  0.473970  0.611018   \n",
       "\n",
       "                  C7  \n",
       "2022-03-14  0.538552  \n",
       "2022-03-15  0.532367  \n",
       "2022-03-16  0.353272  \n",
       "2022-03-17  0.113220  \n",
       "2022-03-18  0.453667  \n",
       "2022-03-19  0.081116  \n",
       "2022-03-20  0.189629  "
      ]
     },
     "execution_count": 82,
     "metadata": {},
     "output_type": "execute_result"
    }
   ],
   "source": [
    "dframe.columns = ['C1', 'C2', 'C3', 'C4', 'C5', 'C6', 'C7']\n",
    "dframe"
   ]
  },
  {
   "cell_type": "code",
   "execution_count": 83,
   "id": "0043eb5e",
   "metadata": {},
   "outputs": [
    {
     "data": {
      "text/html": [
       "<div>\n",
       "<style scoped>\n",
       "    .dataframe tbody tr th:only-of-type {\n",
       "        vertical-align: middle;\n",
       "    }\n",
       "\n",
       "    .dataframe tbody tr th {\n",
       "        vertical-align: top;\n",
       "    }\n",
       "\n",
       "    .dataframe thead th {\n",
       "        text-align: right;\n",
       "    }\n",
       "</style>\n",
       "<table border=\"1\" class=\"dataframe\">\n",
       "  <thead>\n",
       "    <tr style=\"text-align: right;\">\n",
       "      <th></th>\n",
       "      <th>C1</th>\n",
       "      <th>C2</th>\n",
       "      <th>C3</th>\n",
       "      <th>C4</th>\n",
       "      <th>C5</th>\n",
       "      <th>C6</th>\n",
       "      <th>C7</th>\n",
       "    </tr>\n",
       "  </thead>\n",
       "  <tbody>\n",
       "    <tr>\n",
       "      <th>2022-03-18</th>\n",
       "      <td>0.005586</td>\n",
       "      <td>0.265114</td>\n",
       "      <td>0.881359</td>\n",
       "      <td>0.257684</td>\n",
       "      <td>0.883598</td>\n",
       "      <td>0.299040</td>\n",
       "      <td>0.453667</td>\n",
       "    </tr>\n",
       "    <tr>\n",
       "      <th>2022-03-20</th>\n",
       "      <td>0.056610</td>\n",
       "      <td>0.093454</td>\n",
       "      <td>0.749417</td>\n",
       "      <td>0.463115</td>\n",
       "      <td>0.473970</td>\n",
       "      <td>0.611018</td>\n",
       "      <td>0.189629</td>\n",
       "    </tr>\n",
       "    <tr>\n",
       "      <th>2022-03-16</th>\n",
       "      <td>0.150634</td>\n",
       "      <td>0.981007</td>\n",
       "      <td>0.822293</td>\n",
       "      <td>0.455902</td>\n",
       "      <td>0.300176</td>\n",
       "      <td>0.605559</td>\n",
       "      <td>0.353272</td>\n",
       "    </tr>\n",
       "    <tr>\n",
       "      <th>2022-03-15</th>\n",
       "      <td>0.332700</td>\n",
       "      <td>0.811214</td>\n",
       "      <td>0.613356</td>\n",
       "      <td>0.370942</td>\n",
       "      <td>0.010496</td>\n",
       "      <td>0.440792</td>\n",
       "      <td>0.532367</td>\n",
       "    </tr>\n",
       "    <tr>\n",
       "      <th>2022-03-17</th>\n",
       "      <td>0.358566</td>\n",
       "      <td>0.682160</td>\n",
       "      <td>0.046601</td>\n",
       "      <td>0.937919</td>\n",
       "      <td>0.743502</td>\n",
       "      <td>0.194696</td>\n",
       "      <td>0.113220</td>\n",
       "    </tr>\n",
       "    <tr>\n",
       "      <th>2022-03-14</th>\n",
       "      <td>0.438155</td>\n",
       "      <td>0.250915</td>\n",
       "      <td>0.541647</td>\n",
       "      <td>0.426503</td>\n",
       "      <td>0.395947</td>\n",
       "      <td>0.392830</td>\n",
       "      <td>0.538552</td>\n",
       "    </tr>\n",
       "    <tr>\n",
       "      <th>2022-03-19</th>\n",
       "      <td>0.475876</td>\n",
       "      <td>0.784255</td>\n",
       "      <td>0.976008</td>\n",
       "      <td>0.700844</td>\n",
       "      <td>0.198261</td>\n",
       "      <td>0.012993</td>\n",
       "      <td>0.081116</td>\n",
       "    </tr>\n",
       "  </tbody>\n",
       "</table>\n",
       "</div>"
      ],
      "text/plain": [
       "                  C1        C2        C3        C4        C5        C6  \\\n",
       "2022-03-18  0.005586  0.265114  0.881359  0.257684  0.883598  0.299040   \n",
       "2022-03-20  0.056610  0.093454  0.749417  0.463115  0.473970  0.611018   \n",
       "2022-03-16  0.150634  0.981007  0.822293  0.455902  0.300176  0.605559   \n",
       "2022-03-15  0.332700  0.811214  0.613356  0.370942  0.010496  0.440792   \n",
       "2022-03-17  0.358566  0.682160  0.046601  0.937919  0.743502  0.194696   \n",
       "2022-03-14  0.438155  0.250915  0.541647  0.426503  0.395947  0.392830   \n",
       "2022-03-19  0.475876  0.784255  0.976008  0.700844  0.198261  0.012993   \n",
       "\n",
       "                  C7  \n",
       "2022-03-18  0.453667  \n",
       "2022-03-20  0.189629  \n",
       "2022-03-16  0.353272  \n",
       "2022-03-15  0.532367  \n",
       "2022-03-17  0.113220  \n",
       "2022-03-14  0.538552  \n",
       "2022-03-19  0.081116  "
      ]
     },
     "execution_count": 83,
     "metadata": {},
     "output_type": "execute_result"
    }
   ],
   "source": [
    "dframe.sort_values(by = 'C1') #ascending yani artan sırada sıralama yapar"
   ]
  },
  {
   "cell_type": "code",
   "execution_count": 84,
   "id": "315abe66",
   "metadata": {},
   "outputs": [
    {
     "data": {
      "text/html": [
       "<div>\n",
       "<style scoped>\n",
       "    .dataframe tbody tr th:only-of-type {\n",
       "        vertical-align: middle;\n",
       "    }\n",
       "\n",
       "    .dataframe tbody tr th {\n",
       "        vertical-align: top;\n",
       "    }\n",
       "\n",
       "    .dataframe thead th {\n",
       "        text-align: right;\n",
       "    }\n",
       "</style>\n",
       "<table border=\"1\" class=\"dataframe\">\n",
       "  <thead>\n",
       "    <tr style=\"text-align: right;\">\n",
       "      <th></th>\n",
       "      <th>C1</th>\n",
       "      <th>C2</th>\n",
       "      <th>C3</th>\n",
       "      <th>C4</th>\n",
       "      <th>C5</th>\n",
       "      <th>C6</th>\n",
       "      <th>C7</th>\n",
       "    </tr>\n",
       "  </thead>\n",
       "  <tbody>\n",
       "    <tr>\n",
       "      <th>2022-03-19</th>\n",
       "      <td>0.475876</td>\n",
       "      <td>0.784255</td>\n",
       "      <td>0.976008</td>\n",
       "      <td>0.700844</td>\n",
       "      <td>0.198261</td>\n",
       "      <td>0.012993</td>\n",
       "      <td>0.081116</td>\n",
       "    </tr>\n",
       "    <tr>\n",
       "      <th>2022-03-14</th>\n",
       "      <td>0.438155</td>\n",
       "      <td>0.250915</td>\n",
       "      <td>0.541647</td>\n",
       "      <td>0.426503</td>\n",
       "      <td>0.395947</td>\n",
       "      <td>0.392830</td>\n",
       "      <td>0.538552</td>\n",
       "    </tr>\n",
       "    <tr>\n",
       "      <th>2022-03-17</th>\n",
       "      <td>0.358566</td>\n",
       "      <td>0.682160</td>\n",
       "      <td>0.046601</td>\n",
       "      <td>0.937919</td>\n",
       "      <td>0.743502</td>\n",
       "      <td>0.194696</td>\n",
       "      <td>0.113220</td>\n",
       "    </tr>\n",
       "    <tr>\n",
       "      <th>2022-03-15</th>\n",
       "      <td>0.332700</td>\n",
       "      <td>0.811214</td>\n",
       "      <td>0.613356</td>\n",
       "      <td>0.370942</td>\n",
       "      <td>0.010496</td>\n",
       "      <td>0.440792</td>\n",
       "      <td>0.532367</td>\n",
       "    </tr>\n",
       "    <tr>\n",
       "      <th>2022-03-16</th>\n",
       "      <td>0.150634</td>\n",
       "      <td>0.981007</td>\n",
       "      <td>0.822293</td>\n",
       "      <td>0.455902</td>\n",
       "      <td>0.300176</td>\n",
       "      <td>0.605559</td>\n",
       "      <td>0.353272</td>\n",
       "    </tr>\n",
       "    <tr>\n",
       "      <th>2022-03-20</th>\n",
       "      <td>0.056610</td>\n",
       "      <td>0.093454</td>\n",
       "      <td>0.749417</td>\n",
       "      <td>0.463115</td>\n",
       "      <td>0.473970</td>\n",
       "      <td>0.611018</td>\n",
       "      <td>0.189629</td>\n",
       "    </tr>\n",
       "    <tr>\n",
       "      <th>2022-03-18</th>\n",
       "      <td>0.005586</td>\n",
       "      <td>0.265114</td>\n",
       "      <td>0.881359</td>\n",
       "      <td>0.257684</td>\n",
       "      <td>0.883598</td>\n",
       "      <td>0.299040</td>\n",
       "      <td>0.453667</td>\n",
       "    </tr>\n",
       "  </tbody>\n",
       "</table>\n",
       "</div>"
      ],
      "text/plain": [
       "                  C1        C2        C3        C4        C5        C6  \\\n",
       "2022-03-19  0.475876  0.784255  0.976008  0.700844  0.198261  0.012993   \n",
       "2022-03-14  0.438155  0.250915  0.541647  0.426503  0.395947  0.392830   \n",
       "2022-03-17  0.358566  0.682160  0.046601  0.937919  0.743502  0.194696   \n",
       "2022-03-15  0.332700  0.811214  0.613356  0.370942  0.010496  0.440792   \n",
       "2022-03-16  0.150634  0.981007  0.822293  0.455902  0.300176  0.605559   \n",
       "2022-03-20  0.056610  0.093454  0.749417  0.463115  0.473970  0.611018   \n",
       "2022-03-18  0.005586  0.265114  0.881359  0.257684  0.883598  0.299040   \n",
       "\n",
       "                  C7  \n",
       "2022-03-19  0.081116  \n",
       "2022-03-14  0.538552  \n",
       "2022-03-17  0.113220  \n",
       "2022-03-15  0.532367  \n",
       "2022-03-16  0.353272  \n",
       "2022-03-20  0.189629  \n",
       "2022-03-18  0.453667  "
      ]
     },
     "execution_count": 84,
     "metadata": {},
     "output_type": "execute_result"
    }
   ],
   "source": [
    "dframe.sort_values(by='C1', ascending = False)"
   ]
  },
  {
   "cell_type": "code",
   "execution_count": 87,
   "id": "a1217d1f",
   "metadata": {},
   "outputs": [
    {
     "data": {
      "text/html": [
       "<div>\n",
       "<style scoped>\n",
       "    .dataframe tbody tr th:only-of-type {\n",
       "        vertical-align: middle;\n",
       "    }\n",
       "\n",
       "    .dataframe tbody tr th {\n",
       "        vertical-align: top;\n",
       "    }\n",
       "\n",
       "    .dataframe thead th {\n",
       "        text-align: right;\n",
       "    }\n",
       "</style>\n",
       "<table border=\"1\" class=\"dataframe\">\n",
       "  <thead>\n",
       "    <tr style=\"text-align: right;\">\n",
       "      <th></th>\n",
       "      <th>ID</th>\n",
       "      <th>Name</th>\n",
       "    </tr>\n",
       "  </thead>\n",
       "  <tbody>\n",
       "    <tr>\n",
       "      <th>0</th>\n",
       "      <td>1</td>\n",
       "      <td>Dogu</td>\n",
       "    </tr>\n",
       "    <tr>\n",
       "      <th>1</th>\n",
       "      <td>2</td>\n",
       "      <td>Bati</td>\n",
       "    </tr>\n",
       "    <tr>\n",
       "      <th>2</th>\n",
       "      <td>3</td>\n",
       "      <td>Ross</td>\n",
       "    </tr>\n",
       "    <tr>\n",
       "      <th>3</th>\n",
       "      <td>4</td>\n",
       "      <td>John</td>\n",
       "    </tr>\n",
       "  </tbody>\n",
       "</table>\n",
       "</div>"
      ],
      "text/plain": [
       "   ID  Name\n",
       "0   1  Dogu\n",
       "1   2  Bati\n",
       "2   3  Ross\n",
       "3   4  John"
      ]
     },
     "execution_count": 87,
     "metadata": {},
     "output_type": "execute_result"
    }
   ],
   "source": [
    "df0"
   ]
  },
  {
   "cell_type": "code",
   "execution_count": 89,
   "id": "34ca1e6f",
   "metadata": {},
   "outputs": [],
   "source": [
    "del df0['Name']"
   ]
  },
  {
   "cell_type": "code",
   "execution_count": 90,
   "id": "99563d36",
   "metadata": {},
   "outputs": [
    {
     "data": {
      "text/html": [
       "<div>\n",
       "<style scoped>\n",
       "    .dataframe tbody tr th:only-of-type {\n",
       "        vertical-align: middle;\n",
       "    }\n",
       "\n",
       "    .dataframe tbody tr th {\n",
       "        vertical-align: top;\n",
       "    }\n",
       "\n",
       "    .dataframe thead th {\n",
       "        text-align: right;\n",
       "    }\n",
       "</style>\n",
       "<table border=\"1\" class=\"dataframe\">\n",
       "  <thead>\n",
       "    <tr style=\"text-align: right;\">\n",
       "      <th></th>\n",
       "      <th>ID</th>\n",
       "    </tr>\n",
       "  </thead>\n",
       "  <tbody>\n",
       "    <tr>\n",
       "      <th>0</th>\n",
       "      <td>1</td>\n",
       "    </tr>\n",
       "    <tr>\n",
       "      <th>1</th>\n",
       "      <td>2</td>\n",
       "    </tr>\n",
       "    <tr>\n",
       "      <th>2</th>\n",
       "      <td>3</td>\n",
       "    </tr>\n",
       "    <tr>\n",
       "      <th>3</th>\n",
       "      <td>4</td>\n",
       "    </tr>\n",
       "  </tbody>\n",
       "</table>\n",
       "</div>"
      ],
      "text/plain": [
       "   ID\n",
       "0   1\n",
       "1   2\n",
       "2   3\n",
       "3   4"
      ]
     },
     "execution_count": 90,
     "metadata": {},
     "output_type": "execute_result"
    }
   ],
   "source": [
    "df0"
   ]
  },
  {
   "cell_type": "code",
   "execution_count": 91,
   "id": "ba31c567",
   "metadata": {},
   "outputs": [
    {
     "data": {
      "text/html": [
       "<div>\n",
       "<style scoped>\n",
       "    .dataframe tbody tr th:only-of-type {\n",
       "        vertical-align: middle;\n",
       "    }\n",
       "\n",
       "    .dataframe tbody tr th {\n",
       "        vertical-align: top;\n",
       "    }\n",
       "\n",
       "    .dataframe thead th {\n",
       "        text-align: right;\n",
       "    }\n",
       "</style>\n",
       "<table border=\"1\" class=\"dataframe\">\n",
       "  <thead>\n",
       "    <tr style=\"text-align: right;\">\n",
       "      <th></th>\n",
       "      <th>a</th>\n",
       "      <th>b</th>\n",
       "      <th>c</th>\n",
       "      <th>d</th>\n",
       "    </tr>\n",
       "  </thead>\n",
       "  <tbody>\n",
       "    <tr>\n",
       "      <th>row1</th>\n",
       "      <td>1</td>\n",
       "      <td>2</td>\n",
       "      <td>NaN</td>\n",
       "      <td>NaN</td>\n",
       "    </tr>\n",
       "    <tr>\n",
       "      <th>row2</th>\n",
       "      <td>5</td>\n",
       "      <td>10</td>\n",
       "      <td>20.0</td>\n",
       "      <td>NaN</td>\n",
       "    </tr>\n",
       "  </tbody>\n",
       "</table>\n",
       "</div>"
      ],
      "text/plain": [
       "      a   b     c   d\n",
       "row1  1   2   NaN NaN\n",
       "row2  5  10  20.0 NaN"
      ]
     },
     "execution_count": 91,
     "metadata": {},
     "output_type": "execute_result"
    }
   ],
   "source": [
    "df5"
   ]
  },
  {
   "cell_type": "code",
   "execution_count": 92,
   "id": "37f6cc54",
   "metadata": {},
   "outputs": [
    {
     "data": {
      "text/plain": [
       "row1     NaN\n",
       "row2    20.0\n",
       "Name: c, dtype: float64"
      ]
     },
     "execution_count": 92,
     "metadata": {},
     "output_type": "execute_result"
    }
   ],
   "source": [
    "df5.pop('c')"
   ]
  },
  {
   "cell_type": "code",
   "execution_count": 101,
   "id": "df5e2e07",
   "metadata": {},
   "outputs": [
    {
     "data": {
      "text/html": [
       "<div>\n",
       "<style scoped>\n",
       "    .dataframe tbody tr th:only-of-type {\n",
       "        vertical-align: middle;\n",
       "    }\n",
       "\n",
       "    .dataframe tbody tr th {\n",
       "        vertical-align: top;\n",
       "    }\n",
       "\n",
       "    .dataframe thead th {\n",
       "        text-align: right;\n",
       "    }\n",
       "</style>\n",
       "<table border=\"1\" class=\"dataframe\">\n",
       "  <thead>\n",
       "    <tr style=\"text-align: right;\">\n",
       "      <th></th>\n",
       "      <th>C1</th>\n",
       "      <th>C2</th>\n",
       "    </tr>\n",
       "  </thead>\n",
       "  <tbody>\n",
       "    <tr>\n",
       "      <th>0</th>\n",
       "      <td>10.000000</td>\n",
       "      <td>22</td>\n",
       "    </tr>\n",
       "    <tr>\n",
       "      <th>1</th>\n",
       "      <td>13.103448</td>\n",
       "      <td>78</td>\n",
       "    </tr>\n",
       "    <tr>\n",
       "      <th>2</th>\n",
       "      <td>16.206897</td>\n",
       "      <td>90</td>\n",
       "    </tr>\n",
       "    <tr>\n",
       "      <th>3</th>\n",
       "      <td>19.310345</td>\n",
       "      <td>97</td>\n",
       "    </tr>\n",
       "    <tr>\n",
       "      <th>4</th>\n",
       "      <td>22.413793</td>\n",
       "      <td>58</td>\n",
       "    </tr>\n",
       "    <tr>\n",
       "      <th>5</th>\n",
       "      <td>25.517241</td>\n",
       "      <td>24</td>\n",
       "    </tr>\n",
       "    <tr>\n",
       "      <th>6</th>\n",
       "      <td>28.620690</td>\n",
       "      <td>40</td>\n",
       "    </tr>\n",
       "    <tr>\n",
       "      <th>7</th>\n",
       "      <td>31.724138</td>\n",
       "      <td>94</td>\n",
       "    </tr>\n",
       "    <tr>\n",
       "      <th>8</th>\n",
       "      <td>34.827586</td>\n",
       "      <td>57</td>\n",
       "    </tr>\n",
       "    <tr>\n",
       "      <th>9</th>\n",
       "      <td>37.931034</td>\n",
       "      <td>78</td>\n",
       "    </tr>\n",
       "    <tr>\n",
       "      <th>10</th>\n",
       "      <td>41.034483</td>\n",
       "      <td>90</td>\n",
       "    </tr>\n",
       "    <tr>\n",
       "      <th>11</th>\n",
       "      <td>44.137931</td>\n",
       "      <td>74</td>\n",
       "    </tr>\n",
       "    <tr>\n",
       "      <th>12</th>\n",
       "      <td>47.241379</td>\n",
       "      <td>71</td>\n",
       "    </tr>\n",
       "    <tr>\n",
       "      <th>13</th>\n",
       "      <td>50.344828</td>\n",
       "      <td>93</td>\n",
       "    </tr>\n",
       "    <tr>\n",
       "      <th>14</th>\n",
       "      <td>53.448276</td>\n",
       "      <td>73</td>\n",
       "    </tr>\n",
       "    <tr>\n",
       "      <th>15</th>\n",
       "      <td>56.551724</td>\n",
       "      <td>75</td>\n",
       "    </tr>\n",
       "    <tr>\n",
       "      <th>16</th>\n",
       "      <td>59.655172</td>\n",
       "      <td>39</td>\n",
       "    </tr>\n",
       "    <tr>\n",
       "      <th>17</th>\n",
       "      <td>62.758621</td>\n",
       "      <td>44</td>\n",
       "    </tr>\n",
       "    <tr>\n",
       "      <th>18</th>\n",
       "      <td>65.862069</td>\n",
       "      <td>43</td>\n",
       "    </tr>\n",
       "    <tr>\n",
       "      <th>19</th>\n",
       "      <td>68.965517</td>\n",
       "      <td>86</td>\n",
       "    </tr>\n",
       "    <tr>\n",
       "      <th>20</th>\n",
       "      <td>72.068966</td>\n",
       "      <td>99</td>\n",
       "    </tr>\n",
       "    <tr>\n",
       "      <th>21</th>\n",
       "      <td>75.172414</td>\n",
       "      <td>39</td>\n",
       "    </tr>\n",
       "    <tr>\n",
       "      <th>22</th>\n",
       "      <td>78.275862</td>\n",
       "      <td>96</td>\n",
       "    </tr>\n",
       "    <tr>\n",
       "      <th>23</th>\n",
       "      <td>81.379310</td>\n",
       "      <td>93</td>\n",
       "    </tr>\n",
       "    <tr>\n",
       "      <th>24</th>\n",
       "      <td>84.482759</td>\n",
       "      <td>24</td>\n",
       "    </tr>\n",
       "    <tr>\n",
       "      <th>25</th>\n",
       "      <td>87.586207</td>\n",
       "      <td>71</td>\n",
       "    </tr>\n",
       "    <tr>\n",
       "      <th>26</th>\n",
       "      <td>90.689655</td>\n",
       "      <td>80</td>\n",
       "    </tr>\n",
       "    <tr>\n",
       "      <th>27</th>\n",
       "      <td>93.793103</td>\n",
       "      <td>75</td>\n",
       "    </tr>\n",
       "    <tr>\n",
       "      <th>28</th>\n",
       "      <td>96.896552</td>\n",
       "      <td>33</td>\n",
       "    </tr>\n",
       "    <tr>\n",
       "      <th>29</th>\n",
       "      <td>100.000000</td>\n",
       "      <td>89</td>\n",
       "    </tr>\n",
       "  </tbody>\n",
       "</table>\n",
       "</div>"
      ],
      "text/plain": [
       "            C1  C2\n",
       "0    10.000000  22\n",
       "1    13.103448  78\n",
       "2    16.206897  90\n",
       "3    19.310345  97\n",
       "4    22.413793  58\n",
       "5    25.517241  24\n",
       "6    28.620690  40\n",
       "7    31.724138  94\n",
       "8    34.827586  57\n",
       "9    37.931034  78\n",
       "10   41.034483  90\n",
       "11   44.137931  74\n",
       "12   47.241379  71\n",
       "13   50.344828  93\n",
       "14   53.448276  73\n",
       "15   56.551724  75\n",
       "16   59.655172  39\n",
       "17   62.758621  44\n",
       "18   65.862069  43\n",
       "19   68.965517  86\n",
       "20   72.068966  99\n",
       "21   75.172414  39\n",
       "22   78.275862  96\n",
       "23   81.379310  93\n",
       "24   84.482759  24\n",
       "25   87.586207  71\n",
       "26   90.689655  80\n",
       "27   93.793103  75\n",
       "28   96.896552  33\n",
       "29  100.000000  89"
      ]
     },
     "execution_count": 101,
     "metadata": {},
     "output_type": "execute_result"
    }
   ],
   "source": [
    "col1 = np.linspace(10, 100, 30)\n",
    "col2 = np.random.randint(10, 100, 30)\n",
    "df10 = pd.DataFrame({'C1':col1, 'C2':col2})\n",
    "df10"
   ]
  },
  {
   "cell_type": "code",
   "execution_count": 102,
   "id": "c9a1062d",
   "metadata": {},
   "outputs": [
    {
     "data": {
      "text/html": [
       "<div>\n",
       "<style scoped>\n",
       "    .dataframe tbody tr th:only-of-type {\n",
       "        vertical-align: middle;\n",
       "    }\n",
       "\n",
       "    .dataframe tbody tr th {\n",
       "        vertical-align: top;\n",
       "    }\n",
       "\n",
       "    .dataframe thead th {\n",
       "        text-align: right;\n",
       "    }\n",
       "</style>\n",
       "<table border=\"1\" class=\"dataframe\">\n",
       "  <thead>\n",
       "    <tr style=\"text-align: right;\">\n",
       "      <th></th>\n",
       "      <th>C1</th>\n",
       "      <th>C2</th>\n",
       "    </tr>\n",
       "  </thead>\n",
       "  <tbody>\n",
       "    <tr>\n",
       "      <th>0</th>\n",
       "      <td>10.000000</td>\n",
       "      <td>22</td>\n",
       "    </tr>\n",
       "    <tr>\n",
       "      <th>1</th>\n",
       "      <td>13.103448</td>\n",
       "      <td>78</td>\n",
       "    </tr>\n",
       "    <tr>\n",
       "      <th>2</th>\n",
       "      <td>16.206897</td>\n",
       "      <td>90</td>\n",
       "    </tr>\n",
       "    <tr>\n",
       "      <th>3</th>\n",
       "      <td>19.310345</td>\n",
       "      <td>97</td>\n",
       "    </tr>\n",
       "    <tr>\n",
       "      <th>4</th>\n",
       "      <td>22.413793</td>\n",
       "      <td>58</td>\n",
       "    </tr>\n",
       "    <tr>\n",
       "      <th>5</th>\n",
       "      <td>25.517241</td>\n",
       "      <td>24</td>\n",
       "    </tr>\n",
       "    <tr>\n",
       "      <th>6</th>\n",
       "      <td>28.620690</td>\n",
       "      <td>40</td>\n",
       "    </tr>\n",
       "    <tr>\n",
       "      <th>7</th>\n",
       "      <td>31.724138</td>\n",
       "      <td>94</td>\n",
       "    </tr>\n",
       "    <tr>\n",
       "      <th>8</th>\n",
       "      <td>34.827586</td>\n",
       "      <td>57</td>\n",
       "    </tr>\n",
       "    <tr>\n",
       "      <th>9</th>\n",
       "      <td>37.931034</td>\n",
       "      <td>78</td>\n",
       "    </tr>\n",
       "    <tr>\n",
       "      <th>10</th>\n",
       "      <td>41.034483</td>\n",
       "      <td>90</td>\n",
       "    </tr>\n",
       "    <tr>\n",
       "      <th>11</th>\n",
       "      <td>44.137931</td>\n",
       "      <td>74</td>\n",
       "    </tr>\n",
       "    <tr>\n",
       "      <th>12</th>\n",
       "      <td>47.241379</td>\n",
       "      <td>71</td>\n",
       "    </tr>\n",
       "    <tr>\n",
       "      <th>13</th>\n",
       "      <td>50.344828</td>\n",
       "      <td>93</td>\n",
       "    </tr>\n",
       "    <tr>\n",
       "      <th>14</th>\n",
       "      <td>53.448276</td>\n",
       "      <td>73</td>\n",
       "    </tr>\n",
       "    <tr>\n",
       "      <th>15</th>\n",
       "      <td>56.551724</td>\n",
       "      <td>75</td>\n",
       "    </tr>\n",
       "    <tr>\n",
       "      <th>16</th>\n",
       "      <td>59.655172</td>\n",
       "      <td>39</td>\n",
       "    </tr>\n",
       "    <tr>\n",
       "      <th>20</th>\n",
       "      <td>72.068966</td>\n",
       "      <td>99</td>\n",
       "    </tr>\n",
       "    <tr>\n",
       "      <th>21</th>\n",
       "      <td>75.172414</td>\n",
       "      <td>39</td>\n",
       "    </tr>\n",
       "    <tr>\n",
       "      <th>22</th>\n",
       "      <td>78.275862</td>\n",
       "      <td>96</td>\n",
       "    </tr>\n",
       "    <tr>\n",
       "      <th>23</th>\n",
       "      <td>81.379310</td>\n",
       "      <td>93</td>\n",
       "    </tr>\n",
       "    <tr>\n",
       "      <th>24</th>\n",
       "      <td>84.482759</td>\n",
       "      <td>24</td>\n",
       "    </tr>\n",
       "    <tr>\n",
       "      <th>25</th>\n",
       "      <td>87.586207</td>\n",
       "      <td>71</td>\n",
       "    </tr>\n",
       "    <tr>\n",
       "      <th>26</th>\n",
       "      <td>90.689655</td>\n",
       "      <td>80</td>\n",
       "    </tr>\n",
       "    <tr>\n",
       "      <th>27</th>\n",
       "      <td>93.793103</td>\n",
       "      <td>75</td>\n",
       "    </tr>\n",
       "    <tr>\n",
       "      <th>28</th>\n",
       "      <td>96.896552</td>\n",
       "      <td>33</td>\n",
       "    </tr>\n",
       "    <tr>\n",
       "      <th>29</th>\n",
       "      <td>100.000000</td>\n",
       "      <td>89</td>\n",
       "    </tr>\n",
       "  </tbody>\n",
       "</table>\n",
       "</div>"
      ],
      "text/plain": [
       "            C1  C2\n",
       "0    10.000000  22\n",
       "1    13.103448  78\n",
       "2    16.206897  90\n",
       "3    19.310345  97\n",
       "4    22.413793  58\n",
       "5    25.517241  24\n",
       "6    28.620690  40\n",
       "7    31.724138  94\n",
       "8    34.827586  57\n",
       "9    37.931034  78\n",
       "10   41.034483  90\n",
       "11   44.137931  74\n",
       "12   47.241379  71\n",
       "13   50.344828  93\n",
       "14   53.448276  73\n",
       "15   56.551724  75\n",
       "16   59.655172  39\n",
       "20   72.068966  99\n",
       "21   75.172414  39\n",
       "22   78.275862  96\n",
       "23   81.379310  93\n",
       "24   84.482759  24\n",
       "25   87.586207  71\n",
       "26   90.689655  80\n",
       "27   93.793103  75\n",
       "28   96.896552  33\n",
       "29  100.000000  89"
      ]
     },
     "execution_count": 102,
     "metadata": {},
     "output_type": "execute_result"
    }
   ],
   "source": [
    "df10 = df10.drop([17, 18, 19], axis = 0)\n",
    "df10"
   ]
  },
  {
   "cell_type": "code",
   "execution_count": 103,
   "id": "01b1d9a1",
   "metadata": {},
   "outputs": [
    {
     "data": {
      "text/html": [
       "<div>\n",
       "<style scoped>\n",
       "    .dataframe tbody tr th:only-of-type {\n",
       "        vertical-align: middle;\n",
       "    }\n",
       "\n",
       "    .dataframe tbody tr th {\n",
       "        vertical-align: top;\n",
       "    }\n",
       "\n",
       "    .dataframe thead th {\n",
       "        text-align: right;\n",
       "    }\n",
       "</style>\n",
       "<table border=\"1\" class=\"dataframe\">\n",
       "  <thead>\n",
       "    <tr style=\"text-align: right;\">\n",
       "      <th></th>\n",
       "      <th>C1</th>\n",
       "      <th>C2</th>\n",
       "    </tr>\n",
       "  </thead>\n",
       "  <tbody>\n",
       "    <tr>\n",
       "      <th>0</th>\n",
       "      <td>10.000000</td>\n",
       "      <td>22</td>\n",
       "    </tr>\n",
       "    <tr>\n",
       "      <th>1</th>\n",
       "      <td>13.103448</td>\n",
       "      <td>78</td>\n",
       "    </tr>\n",
       "    <tr>\n",
       "      <th>2</th>\n",
       "      <td>16.206897</td>\n",
       "      <td>90</td>\n",
       "    </tr>\n",
       "    <tr>\n",
       "      <th>3</th>\n",
       "      <td>19.310345</td>\n",
       "      <td>97</td>\n",
       "    </tr>\n",
       "    <tr>\n",
       "      <th>4</th>\n",
       "      <td>22.413793</td>\n",
       "      <td>58</td>\n",
       "    </tr>\n",
       "    <tr>\n",
       "      <th>5</th>\n",
       "      <td>25.517241</td>\n",
       "      <td>24</td>\n",
       "    </tr>\n",
       "    <tr>\n",
       "      <th>6</th>\n",
       "      <td>28.620690</td>\n",
       "      <td>40</td>\n",
       "    </tr>\n",
       "    <tr>\n",
       "      <th>7</th>\n",
       "      <td>31.724138</td>\n",
       "      <td>94</td>\n",
       "    </tr>\n",
       "    <tr>\n",
       "      <th>8</th>\n",
       "      <td>34.827586</td>\n",
       "      <td>57</td>\n",
       "    </tr>\n",
       "    <tr>\n",
       "      <th>9</th>\n",
       "      <td>37.931034</td>\n",
       "      <td>78</td>\n",
       "    </tr>\n",
       "    <tr>\n",
       "      <th>10</th>\n",
       "      <td>41.034483</td>\n",
       "      <td>90</td>\n",
       "    </tr>\n",
       "    <tr>\n",
       "      <th>11</th>\n",
       "      <td>44.137931</td>\n",
       "      <td>74</td>\n",
       "    </tr>\n",
       "    <tr>\n",
       "      <th>12</th>\n",
       "      <td>47.241379</td>\n",
       "      <td>71</td>\n",
       "    </tr>\n",
       "    <tr>\n",
       "      <th>13</th>\n",
       "      <td>50.344828</td>\n",
       "      <td>93</td>\n",
       "    </tr>\n",
       "    <tr>\n",
       "      <th>14</th>\n",
       "      <td>53.448276</td>\n",
       "      <td>73</td>\n",
       "    </tr>\n",
       "    <tr>\n",
       "      <th>15</th>\n",
       "      <td>56.551724</td>\n",
       "      <td>75</td>\n",
       "    </tr>\n",
       "    <tr>\n",
       "      <th>20</th>\n",
       "      <td>72.068966</td>\n",
       "      <td>99</td>\n",
       "    </tr>\n",
       "    <tr>\n",
       "      <th>21</th>\n",
       "      <td>75.172414</td>\n",
       "      <td>39</td>\n",
       "    </tr>\n",
       "    <tr>\n",
       "      <th>22</th>\n",
       "      <td>78.275862</td>\n",
       "      <td>96</td>\n",
       "    </tr>\n",
       "    <tr>\n",
       "      <th>23</th>\n",
       "      <td>81.379310</td>\n",
       "      <td>93</td>\n",
       "    </tr>\n",
       "    <tr>\n",
       "      <th>24</th>\n",
       "      <td>84.482759</td>\n",
       "      <td>24</td>\n",
       "    </tr>\n",
       "    <tr>\n",
       "      <th>25</th>\n",
       "      <td>87.586207</td>\n",
       "      <td>71</td>\n",
       "    </tr>\n",
       "    <tr>\n",
       "      <th>26</th>\n",
       "      <td>90.689655</td>\n",
       "      <td>80</td>\n",
       "    </tr>\n",
       "    <tr>\n",
       "      <th>27</th>\n",
       "      <td>93.793103</td>\n",
       "      <td>75</td>\n",
       "    </tr>\n",
       "    <tr>\n",
       "      <th>28</th>\n",
       "      <td>96.896552</td>\n",
       "      <td>33</td>\n",
       "    </tr>\n",
       "    <tr>\n",
       "      <th>29</th>\n",
       "      <td>100.000000</td>\n",
       "      <td>89</td>\n",
       "    </tr>\n",
       "  </tbody>\n",
       "</table>\n",
       "</div>"
      ],
      "text/plain": [
       "            C1  C2\n",
       "0    10.000000  22\n",
       "1    13.103448  78\n",
       "2    16.206897  90\n",
       "3    19.310345  97\n",
       "4    22.413793  58\n",
       "5    25.517241  24\n",
       "6    28.620690  40\n",
       "7    31.724138  94\n",
       "8    34.827586  57\n",
       "9    37.931034  78\n",
       "10   41.034483  90\n",
       "11   44.137931  74\n",
       "12   47.241379  71\n",
       "13   50.344828  93\n",
       "14   53.448276  73\n",
       "15   56.551724  75\n",
       "20   72.068966  99\n",
       "21   75.172414  39\n",
       "22   78.275862  96\n",
       "23   81.379310  93\n",
       "24   84.482759  24\n",
       "25   87.586207  71\n",
       "26   90.689655  80\n",
       "27   93.793103  75\n",
       "28   96.896552  33\n",
       "29  100.000000  89"
      ]
     },
     "execution_count": 103,
     "metadata": {},
     "output_type": "execute_result"
    }
   ],
   "source": [
    "df10.drop([16], axis = 0, inplace = True)\n",
    "df10"
   ]
  },
  {
   "cell_type": "code",
   "execution_count": 104,
   "id": "4e5c6bf3",
   "metadata": {},
   "outputs": [
    {
     "data": {
      "text/html": [
       "<div>\n",
       "<style scoped>\n",
       "    .dataframe tbody tr th:only-of-type {\n",
       "        vertical-align: middle;\n",
       "    }\n",
       "\n",
       "    .dataframe tbody tr th {\n",
       "        vertical-align: top;\n",
       "    }\n",
       "\n",
       "    .dataframe thead th {\n",
       "        text-align: right;\n",
       "    }\n",
       "</style>\n",
       "<table border=\"1\" class=\"dataframe\">\n",
       "  <thead>\n",
       "    <tr style=\"text-align: right;\">\n",
       "      <th></th>\n",
       "      <th>C1</th>\n",
       "      <th>C2</th>\n",
       "    </tr>\n",
       "  </thead>\n",
       "  <tbody>\n",
       "    <tr>\n",
       "      <th>0</th>\n",
       "      <td>10.000000</td>\n",
       "      <td>22</td>\n",
       "    </tr>\n",
       "    <tr>\n",
       "      <th>1</th>\n",
       "      <td>13.103448</td>\n",
       "      <td>78</td>\n",
       "    </tr>\n",
       "    <tr>\n",
       "      <th>2</th>\n",
       "      <td>16.206897</td>\n",
       "      <td>90</td>\n",
       "    </tr>\n",
       "    <tr>\n",
       "      <th>3</th>\n",
       "      <td>19.310345</td>\n",
       "      <td>97</td>\n",
       "    </tr>\n",
       "    <tr>\n",
       "      <th>4</th>\n",
       "      <td>22.413793</td>\n",
       "      <td>58</td>\n",
       "    </tr>\n",
       "    <tr>\n",
       "      <th>6</th>\n",
       "      <td>28.620690</td>\n",
       "      <td>40</td>\n",
       "    </tr>\n",
       "    <tr>\n",
       "      <th>7</th>\n",
       "      <td>31.724138</td>\n",
       "      <td>94</td>\n",
       "    </tr>\n",
       "    <tr>\n",
       "      <th>8</th>\n",
       "      <td>34.827586</td>\n",
       "      <td>57</td>\n",
       "    </tr>\n",
       "    <tr>\n",
       "      <th>9</th>\n",
       "      <td>37.931034</td>\n",
       "      <td>78</td>\n",
       "    </tr>\n",
       "    <tr>\n",
       "      <th>10</th>\n",
       "      <td>41.034483</td>\n",
       "      <td>90</td>\n",
       "    </tr>\n",
       "    <tr>\n",
       "      <th>11</th>\n",
       "      <td>44.137931</td>\n",
       "      <td>74</td>\n",
       "    </tr>\n",
       "    <tr>\n",
       "      <th>12</th>\n",
       "      <td>47.241379</td>\n",
       "      <td>71</td>\n",
       "    </tr>\n",
       "    <tr>\n",
       "      <th>13</th>\n",
       "      <td>50.344828</td>\n",
       "      <td>93</td>\n",
       "    </tr>\n",
       "    <tr>\n",
       "      <th>14</th>\n",
       "      <td>53.448276</td>\n",
       "      <td>73</td>\n",
       "    </tr>\n",
       "    <tr>\n",
       "      <th>15</th>\n",
       "      <td>56.551724</td>\n",
       "      <td>75</td>\n",
       "    </tr>\n",
       "    <tr>\n",
       "      <th>20</th>\n",
       "      <td>72.068966</td>\n",
       "      <td>99</td>\n",
       "    </tr>\n",
       "    <tr>\n",
       "      <th>21</th>\n",
       "      <td>75.172414</td>\n",
       "      <td>39</td>\n",
       "    </tr>\n",
       "    <tr>\n",
       "      <th>22</th>\n",
       "      <td>78.275862</td>\n",
       "      <td>96</td>\n",
       "    </tr>\n",
       "    <tr>\n",
       "      <th>23</th>\n",
       "      <td>81.379310</td>\n",
       "      <td>93</td>\n",
       "    </tr>\n",
       "    <tr>\n",
       "      <th>24</th>\n",
       "      <td>84.482759</td>\n",
       "      <td>24</td>\n",
       "    </tr>\n",
       "    <tr>\n",
       "      <th>25</th>\n",
       "      <td>87.586207</td>\n",
       "      <td>71</td>\n",
       "    </tr>\n",
       "    <tr>\n",
       "      <th>26</th>\n",
       "      <td>90.689655</td>\n",
       "      <td>80</td>\n",
       "    </tr>\n",
       "    <tr>\n",
       "      <th>27</th>\n",
       "      <td>93.793103</td>\n",
       "      <td>75</td>\n",
       "    </tr>\n",
       "    <tr>\n",
       "      <th>28</th>\n",
       "      <td>96.896552</td>\n",
       "      <td>33</td>\n",
       "    </tr>\n",
       "    <tr>\n",
       "      <th>29</th>\n",
       "      <td>100.000000</td>\n",
       "      <td>89</td>\n",
       "    </tr>\n",
       "  </tbody>\n",
       "</table>\n",
       "</div>"
      ],
      "text/plain": [
       "            C1  C2\n",
       "0    10.000000  22\n",
       "1    13.103448  78\n",
       "2    16.206897  90\n",
       "3    19.310345  97\n",
       "4    22.413793  58\n",
       "6    28.620690  40\n",
       "7    31.724138  94\n",
       "8    34.827586  57\n",
       "9    37.931034  78\n",
       "10   41.034483  90\n",
       "11   44.137931  74\n",
       "12   47.241379  71\n",
       "13   50.344828  93\n",
       "14   53.448276  73\n",
       "15   56.551724  75\n",
       "20   72.068966  99\n",
       "21   75.172414  39\n",
       "22   78.275862  96\n",
       "23   81.379310  93\n",
       "24   84.482759  24\n",
       "25   87.586207  71\n",
       "26   90.689655  80\n",
       "27   93.793103  75\n",
       "28   96.896552  33\n",
       "29  100.000000  89"
      ]
     },
     "execution_count": 104,
     "metadata": {},
     "output_type": "execute_result"
    }
   ],
   "source": [
    "df10.drop(df10.index[5], inplace = True)\n",
    "df10"
   ]
  },
  {
   "cell_type": "code",
   "execution_count": 105,
   "id": "de16d7fd",
   "metadata": {},
   "outputs": [
    {
     "data": {
      "text/html": [
       "<div>\n",
       "<style scoped>\n",
       "    .dataframe tbody tr th:only-of-type {\n",
       "        vertical-align: middle;\n",
       "    }\n",
       "\n",
       "    .dataframe tbody tr th {\n",
       "        vertical-align: top;\n",
       "    }\n",
       "\n",
       "    .dataframe thead th {\n",
       "        text-align: right;\n",
       "    }\n",
       "</style>\n",
       "<table border=\"1\" class=\"dataframe\">\n",
       "  <thead>\n",
       "    <tr style=\"text-align: right;\">\n",
       "      <th></th>\n",
       "      <th>C1</th>\n",
       "      <th>C2</th>\n",
       "    </tr>\n",
       "  </thead>\n",
       "  <tbody>\n",
       "    <tr>\n",
       "      <th>3</th>\n",
       "      <td>19.310345</td>\n",
       "      <td>97</td>\n",
       "    </tr>\n",
       "    <tr>\n",
       "      <th>4</th>\n",
       "      <td>22.413793</td>\n",
       "      <td>58</td>\n",
       "    </tr>\n",
       "    <tr>\n",
       "      <th>6</th>\n",
       "      <td>28.620690</td>\n",
       "      <td>40</td>\n",
       "    </tr>\n",
       "    <tr>\n",
       "      <th>7</th>\n",
       "      <td>31.724138</td>\n",
       "      <td>94</td>\n",
       "    </tr>\n",
       "    <tr>\n",
       "      <th>8</th>\n",
       "      <td>34.827586</td>\n",
       "      <td>57</td>\n",
       "    </tr>\n",
       "    <tr>\n",
       "      <th>9</th>\n",
       "      <td>37.931034</td>\n",
       "      <td>78</td>\n",
       "    </tr>\n",
       "    <tr>\n",
       "      <th>10</th>\n",
       "      <td>41.034483</td>\n",
       "      <td>90</td>\n",
       "    </tr>\n",
       "    <tr>\n",
       "      <th>11</th>\n",
       "      <td>44.137931</td>\n",
       "      <td>74</td>\n",
       "    </tr>\n",
       "    <tr>\n",
       "      <th>12</th>\n",
       "      <td>47.241379</td>\n",
       "      <td>71</td>\n",
       "    </tr>\n",
       "    <tr>\n",
       "      <th>13</th>\n",
       "      <td>50.344828</td>\n",
       "      <td>93</td>\n",
       "    </tr>\n",
       "    <tr>\n",
       "      <th>14</th>\n",
       "      <td>53.448276</td>\n",
       "      <td>73</td>\n",
       "    </tr>\n",
       "    <tr>\n",
       "      <th>15</th>\n",
       "      <td>56.551724</td>\n",
       "      <td>75</td>\n",
       "    </tr>\n",
       "    <tr>\n",
       "      <th>20</th>\n",
       "      <td>72.068966</td>\n",
       "      <td>99</td>\n",
       "    </tr>\n",
       "    <tr>\n",
       "      <th>21</th>\n",
       "      <td>75.172414</td>\n",
       "      <td>39</td>\n",
       "    </tr>\n",
       "    <tr>\n",
       "      <th>22</th>\n",
       "      <td>78.275862</td>\n",
       "      <td>96</td>\n",
       "    </tr>\n",
       "    <tr>\n",
       "      <th>23</th>\n",
       "      <td>81.379310</td>\n",
       "      <td>93</td>\n",
       "    </tr>\n",
       "    <tr>\n",
       "      <th>24</th>\n",
       "      <td>84.482759</td>\n",
       "      <td>24</td>\n",
       "    </tr>\n",
       "    <tr>\n",
       "      <th>25</th>\n",
       "      <td>87.586207</td>\n",
       "      <td>71</td>\n",
       "    </tr>\n",
       "    <tr>\n",
       "      <th>26</th>\n",
       "      <td>90.689655</td>\n",
       "      <td>80</td>\n",
       "    </tr>\n",
       "    <tr>\n",
       "      <th>27</th>\n",
       "      <td>93.793103</td>\n",
       "      <td>75</td>\n",
       "    </tr>\n",
       "    <tr>\n",
       "      <th>28</th>\n",
       "      <td>96.896552</td>\n",
       "      <td>33</td>\n",
       "    </tr>\n",
       "    <tr>\n",
       "      <th>29</th>\n",
       "      <td>100.000000</td>\n",
       "      <td>89</td>\n",
       "    </tr>\n",
       "  </tbody>\n",
       "</table>\n",
       "</div>"
      ],
      "text/plain": [
       "            C1  C2\n",
       "3    19.310345  97\n",
       "4    22.413793  58\n",
       "6    28.620690  40\n",
       "7    31.724138  94\n",
       "8    34.827586  57\n",
       "9    37.931034  78\n",
       "10   41.034483  90\n",
       "11   44.137931  74\n",
       "12   47.241379  71\n",
       "13   50.344828  93\n",
       "14   53.448276  73\n",
       "15   56.551724  75\n",
       "20   72.068966  99\n",
       "21   75.172414  39\n",
       "22   78.275862  96\n",
       "23   81.379310  93\n",
       "24   84.482759  24\n",
       "25   87.586207  71\n",
       "26   90.689655  80\n",
       "27   93.793103  75\n",
       "28   96.896552  33\n",
       "29  100.000000  89"
      ]
     },
     "execution_count": 105,
     "metadata": {},
     "output_type": "execute_result"
    }
   ],
   "source": [
    "df10 = df10.iloc[3:,]\n",
    "df10"
   ]
  },
  {
   "cell_type": "code",
   "execution_count": 106,
   "id": "239046c5",
   "metadata": {},
   "outputs": [
    {
     "data": {
      "text/html": [
       "<div>\n",
       "<style scoped>\n",
       "    .dataframe tbody tr th:only-of-type {\n",
       "        vertical-align: middle;\n",
       "    }\n",
       "\n",
       "    .dataframe tbody tr th {\n",
       "        vertical-align: top;\n",
       "    }\n",
       "\n",
       "    .dataframe thead th {\n",
       "        text-align: right;\n",
       "    }\n",
       "</style>\n",
       "<table border=\"1\" class=\"dataframe\">\n",
       "  <thead>\n",
       "    <tr style=\"text-align: right;\">\n",
       "      <th></th>\n",
       "      <th>C1</th>\n",
       "      <th>C2</th>\n",
       "    </tr>\n",
       "  </thead>\n",
       "  <tbody>\n",
       "    <tr>\n",
       "      <th>3</th>\n",
       "      <td>19.310345</td>\n",
       "      <td>97</td>\n",
       "    </tr>\n",
       "    <tr>\n",
       "      <th>4</th>\n",
       "      <td>22.413793</td>\n",
       "      <td>58</td>\n",
       "    </tr>\n",
       "    <tr>\n",
       "      <th>6</th>\n",
       "      <td>28.620690</td>\n",
       "      <td>40</td>\n",
       "    </tr>\n",
       "    <tr>\n",
       "      <th>7</th>\n",
       "      <td>31.724138</td>\n",
       "      <td>94</td>\n",
       "    </tr>\n",
       "    <tr>\n",
       "      <th>8</th>\n",
       "      <td>34.827586</td>\n",
       "      <td>57</td>\n",
       "    </tr>\n",
       "    <tr>\n",
       "      <th>9</th>\n",
       "      <td>37.931034</td>\n",
       "      <td>78</td>\n",
       "    </tr>\n",
       "    <tr>\n",
       "      <th>10</th>\n",
       "      <td>41.034483</td>\n",
       "      <td>90</td>\n",
       "    </tr>\n",
       "    <tr>\n",
       "      <th>11</th>\n",
       "      <td>44.137931</td>\n",
       "      <td>74</td>\n",
       "    </tr>\n",
       "    <tr>\n",
       "      <th>12</th>\n",
       "      <td>47.241379</td>\n",
       "      <td>71</td>\n",
       "    </tr>\n",
       "    <tr>\n",
       "      <th>13</th>\n",
       "      <td>50.344828</td>\n",
       "      <td>93</td>\n",
       "    </tr>\n",
       "    <tr>\n",
       "      <th>14</th>\n",
       "      <td>53.448276</td>\n",
       "      <td>73</td>\n",
       "    </tr>\n",
       "    <tr>\n",
       "      <th>15</th>\n",
       "      <td>56.551724</td>\n",
       "      <td>75</td>\n",
       "    </tr>\n",
       "    <tr>\n",
       "      <th>20</th>\n",
       "      <td>72.068966</td>\n",
       "      <td>99</td>\n",
       "    </tr>\n",
       "    <tr>\n",
       "      <th>21</th>\n",
       "      <td>75.172414</td>\n",
       "      <td>39</td>\n",
       "    </tr>\n",
       "    <tr>\n",
       "      <th>22</th>\n",
       "      <td>78.275862</td>\n",
       "      <td>96</td>\n",
       "    </tr>\n",
       "    <tr>\n",
       "      <th>23</th>\n",
       "      <td>81.379310</td>\n",
       "      <td>93</td>\n",
       "    </tr>\n",
       "    <tr>\n",
       "      <th>24</th>\n",
       "      <td>84.482759</td>\n",
       "      <td>24</td>\n",
       "    </tr>\n",
       "    <tr>\n",
       "      <th>25</th>\n",
       "      <td>87.586207</td>\n",
       "      <td>71</td>\n",
       "    </tr>\n",
       "  </tbody>\n",
       "</table>\n",
       "</div>"
      ],
      "text/plain": [
       "           C1  C2\n",
       "3   19.310345  97\n",
       "4   22.413793  58\n",
       "6   28.620690  40\n",
       "7   31.724138  94\n",
       "8   34.827586  57\n",
       "9   37.931034  78\n",
       "10  41.034483  90\n",
       "11  44.137931  74\n",
       "12  47.241379  71\n",
       "13  50.344828  93\n",
       "14  53.448276  73\n",
       "15  56.551724  75\n",
       "20  72.068966  99\n",
       "21  75.172414  39\n",
       "22  78.275862  96\n",
       "23  81.379310  93\n",
       "24  84.482759  24\n",
       "25  87.586207  71"
      ]
     },
     "execution_count": 106,
     "metadata": {},
     "output_type": "execute_result"
    }
   ],
   "source": [
    "df10 = df10.iloc[:-4,]\n",
    "df10"
   ]
  },
  {
   "cell_type": "code",
   "execution_count": null,
   "id": "11ae6a36",
   "metadata": {},
   "outputs": [],
   "source": []
  }
 ],
 "metadata": {
  "kernelspec": {
   "display_name": "Python 3",
   "language": "python",
   "name": "python3"
  },
  "language_info": {
   "codemirror_mode": {
    "name": "ipython",
    "version": 3
   },
   "file_extension": ".py",
   "mimetype": "text/x-python",
   "name": "python",
   "nbconvert_exporter": "python",
   "pygments_lexer": "ipython3",
   "version": "3.8.8"
  }
 },
 "nbformat": 4,
 "nbformat_minor": 5
}
